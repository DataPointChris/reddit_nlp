{
 "cells": [
  {
   "cell_type": "markdown",
   "metadata": {},
   "source": [
    "# Find the Best Model\n"
   ]
  },
  {
   "cell_type": "markdown",
   "metadata": {},
   "source": [
    "---"
   ]
  },
  {
   "cell_type": "code",
   "execution_count": 2,
   "metadata": {},
   "outputs": [
    {
     "name": "stdout",
     "output_type": "stream",
     "text": [
      "The autoreload extension is already loaded. To reload it, use:\n",
      "  %reload_ext autoreload\n"
     ]
    }
   ],
   "source": [
    "import joblib\n",
    "from xgboost import XGBClassifier\n",
    "from pprint import pprint\n",
    "from glob import glob\n",
    "import pandas as pd\n",
    "import numpy as np\n",
    "from sklearn.feature_extraction.text import CountVectorizer, TfidfVectorizer, ENGLISH_STOP_WORDS\n",
    "from sklearn.pipeline import Pipeline\n",
    "from sklearn.model_selection import train_test_split, GridSearchCV, cross_validate, validation_curve, cross_val_score\n",
    "from sklearn.metrics import confusion_matrix, multilabel_confusion_matrix\n",
    "from sklearn.metrics import roc_auc_score, roc_curve, classification_report\n",
    "from sklearn.ensemble import RandomForestClassifier\n",
    "from sklearn.linear_model import LogisticRegression\n",
    "from sklearn.preprocessing import LabelEncoder\n",
    "from sklearn.naive_bayes import MultinomialNB\n",
    "from sklearn.svm import SVC\n",
    "from sklearn.linear_model import SGDClassifier\n",
    "from sklearn.model_selection import StratifiedKFold\n",
    "from sklearn.base import BaseEstimator, TransformerMixin\n",
    "from imblearn.over_sampling import SMOTE, ADASYN\n",
    "import sklearn\n",
    "\n",
    "import time\n",
    "import datetime\n",
    "import seaborn as sns\n",
    "import matplotlib.pyplot as plt\n",
    "%matplotlib inline\n",
    "\n",
    "\n",
    "%load_ext autoreload\n",
    "%autoreload 2"
   ]
  },
  {
   "cell_type": "code",
   "execution_count": 3,
   "metadata": {},
   "outputs": [],
   "source": [
    "from helpers import load_sqlite, custom_stop_words, get_random_class_labels, resample_data\n",
    "from visualizer import Visualizer"
   ]
  },
  {
   "cell_type": "code",
   "execution_count": 4,
   "metadata": {},
   "outputs": [],
   "source": [
    "def build_model(preprocessor, classifier, cv=3, scoring='roc_auc_ovr', verbose=1):\n",
    "    '''\n",
    "    Takes a dictionary with params and outputs a gridsearch model\n",
    "    '''\n",
    "    pipe = Pipeline(\n",
    "    [('prep', preprocessor.get('preprocessor')),\n",
    "     ('clf', classifier.get('estimator'))])\n",
    "    \n",
    "    pipe_params = dict()\n",
    "    pipe_params.update(preprocessor.get('params'))\n",
    "    pipe_params.update(classifier.get('params'))\n",
    "    \n",
    "    skf = StratifiedKFold(n_splits=cv, shuffle=True, random_state=random_state)\n",
    "    model = GridSearchCV(pipe, param_grid=pipe_params, cv=skf, verbose=verbose, scoring=scoring, n_jobs=-1)\n",
    "    return model"
   ]
  },
  {
   "cell_type": "code",
   "execution_count": 5,
   "metadata": {},
   "outputs": [],
   "source": [
    "tfidf = {\n",
    "    'preprocessor': TfidfVectorizer(stop_words=custom_stop_words),\n",
    "    'name': 'TF-IDF Vectorizer',\n",
    "    'params': {\n",
    "        \"prep__ngram_range\": [(1, 2)],\n",
    "        \"prep__max_df\": [.9],\n",
    "        \"prep__use_idf\": [True],\n",
    "        \"prep__norm\": [\"l2\"],\n",
    "        # \"prep__strip_accents\": [None, 'ascii', 'unicode'],\n",
    "        # \"prep__ngram_range\": [(1, 1), (1, 2)],\n",
    "        # \"prep__max_features\": [5000, 6000, 7000],\n",
    "        # \"prep__min_df\": np.arange(2, 20, 4),\n",
    "        # \"prep__max_df\": np.linspace(.8, .99, 5),\n",
    "        # \"prep__norm\": (\"l1\", \"l2\"),\n",
    "        # \"prep__use_idf\": [True, False]\n",
    "    }\n",
    "}"
   ]
  },
  {
   "cell_type": "code",
   "execution_count": 6,
   "metadata": {},
   "outputs": [],
   "source": [
    "estimators = {\n",
    "    \"logisticregression\": {\n",
    "        \"name\": \"Logistic Regression\",\n",
    "        \"estimator\": LogisticRegression(max_iter=1000, fit_intercept=False, C=.99),\n",
    "        \"params\": {\n",
    "            \"clf__solver\": [\"lbfgs\", \"saga\"]\n",
    "        }\n",
    "    },\n",
    "    \"randomforestclassifier\": {\n",
    "        \"name\": \"Random Forest\",\n",
    "        \"estimator\": RandomForestClassifier(min_samples_leaf=2, min_samples_split=.01),\n",
    "        \"params\": {\n",
    "            \"clf__n_estimators\": [300, 500, 1000],\n",
    "            \"clf__max_depth\": np.linspace(400, 1000, 5, dtype=int)\n",
    "        }\n",
    "    },\n",
    "    \"multinomialnb\": {\n",
    "        \"name\": \"Multinomial Bayes Classifier\",\n",
    "        \"estimator\": MultinomialNB(alpha=.1189),\n",
    "        \"params\": {\n",
    "            \"clf__fit_prior\": [True, False]\n",
    "        }\n",
    "    },\n",
    "    \"svc\": {\n",
    "        \"name\": \"Support Vector Classifier\",\n",
    "        \"estimator\": SVC(kernel=\"sigmoid\", probability=True),\n",
    "        \"params\": {\n",
    "            \"clf__C\": [.99, 1]\n",
    "        }\n",
    "    },\n",
    "    \"sgdclassifier\": {\n",
    "        \"name\": \"Stochastic Gradient Descent Classifier\",\n",
    "        \"estimator\": SGDClassifier(alpha=.0001, fit_intercept=True, penalty=\"l2\", loss=\"modified_huber\"),\n",
    "        \"params\":\n",
    "            {\n",
    "        }\n",
    "    },\n",
    "    'xgbclassifier': {\n",
    "        'name': 'XGBoost Classifier',\n",
    "        'estimator': XGBClassifier(n_estimators=200),\n",
    "        'params': {\n",
    "            \"clf__max_depth\": [3, 5, 10],\n",
    "            # \"clf__learning_rate\": np.linspace(.001, .1, 3),\n",
    "            # \"clf__n_estimators\": [50, 100, 200],\n",
    "            # \"clf__objective\": ['binary:logistic', 'multi:softprob'],\n",
    "            # \"clf__booster\": ['gbtree', 'gblinear', 'dart'],\n",
    "            # \"clf__gamma\": np.linspace(0, 1, 3),\n",
    "            # \"clf__subsample\": [.5, 1],\n",
    "            # \"clf__reg_lambda\": np.linspace(0, 1, 3),\n",
    "        }\n",
    "    }\n",
    "}"
   ]
  },
  {
   "cell_type": "code",
   "execution_count": 7,
   "metadata": {},
   "outputs": [],
   "source": [
    "random_state = 77\n",
    "\n",
    "labels = ['python','javascript','html']\n",
    "\n",
    "df = load_sqlite(database='reddit.sqlite', class_labels=labels)"
   ]
  },
  {
   "cell_type": "code",
   "execution_count": 8,
   "metadata": {},
   "outputs": [],
   "source": [
    "X = df['title']\n",
    "y = df['subreddit']\n",
    "\n",
    "X_train, X_test, y_train, y_test = train_test_split(X, y, random_state=7)"
   ]
  },
  {
   "cell_type": "code",
   "execution_count": 9,
   "metadata": {
    "scrolled": false
   },
   "outputs": [
    {
     "name": "stdout",
     "output_type": "stream",
     "text": [
      "**************************************************\n",
      "Model: Logistic Regression\n",
      "\n",
      "Fitting 3 folds for each of 2 candidates, totalling 6 fits\n"
     ]
    },
    {
     "name": "stderr",
     "output_type": "stream",
     "text": [
      "[Parallel(n_jobs=-1)]: Using backend LokyBackend with 12 concurrent workers.\n",
      "[Parallel(n_jobs=-1)]: Done   3 out of   6 | elapsed:    1.4s remaining:    1.4s\n",
      "[Parallel(n_jobs=-1)]: Done   6 out of   6 | elapsed:    1.5s finished\n"
     ]
    },
    {
     "name": "stdout",
     "output_type": "stream",
     "text": [
      "\n",
      "Train Score: 0.9916601685556087\n",
      "Test Score: 0.8961928483752858\n",
      "AUC Score: 0.8961928483752858\n",
      "\n",
      "              precision    recall  f1-score   support\n",
      "\n",
      "        html      0.734     0.594     0.656       320\n",
      "  javascript      0.810     0.637     0.713       496\n",
      "      python      0.801     0.912     0.853      1207\n",
      "\n",
      "    accuracy                          0.794      2023\n",
      "   macro avg      0.782     0.714     0.741      2023\n",
      "weighted avg      0.793     0.794     0.788      2023\n",
      "\n"
     ]
    },
    {
     "data": {
      "image/png": "[encoded data removed]",
      "text/plain": [
       "<Figure size 475.2x475.2 with 1 Axes>"
      ]
     },
     "metadata": {
      "needs_background": "light"
     },
     "output_type": "display_data"
    },
    {
     "name": "stdout",
     "output_type": "stream",
     "text": [
      "\n",
      "\n",
      "**************************************************\n",
      "BEST MODEL SO FAR: Pipeline(steps=[('prep',\n",
      "                 TfidfVectorizer(max_df=0.9, ngram_range=(1, 2),\n",
      "                                 stop_words=frozenset({'a', 'about', 'above',\n",
      "                                                       'across', 'after',\n",
      "                                                       'afterwards', 'again',\n",
      "                                                       'against', 'all',\n",
      "                                                       'almost', 'alone',\n",
      "                                                       'along', 'already',\n",
      "                                                       'also', 'although',\n",
      "                                                       'always', 'am', 'among',\n",
      "                                                       'amongst', 'amoungst',\n",
      "                                                       'amount', 'an', 'and',\n",
      "                                                       'another', 'any',\n",
      "                                                       'anyhow', 'anyone',\n",
      "                                                       'anything', 'anyway',\n",
      "                                                       'anywhere', ...}))),\n",
      "                ('clf',\n",
      "                 LogisticRegression(C=0.99, fit_intercept=False,\n",
      "                                    max_iter=1000))])\n",
      "\n",
      "\n",
      "**************************************************\n",
      "Model: Random Forest\n",
      "\n",
      "Fitting 3 folds for each of 15 candidates, totalling 45 fits\n"
     ]
    },
    {
     "name": "stderr",
     "output_type": "stream",
     "text": [
      "[Parallel(n_jobs=-1)]: Using backend LokyBackend with 12 concurrent workers.\n",
      "[Parallel(n_jobs=-1)]: Done  32 out of  45 | elapsed:   37.8s remaining:   15.4s\n",
      "[Parallel(n_jobs=-1)]: Done  42 out of  45 | elapsed:   46.5s remaining:    3.3s\n",
      "[Parallel(n_jobs=-1)]: Done  45 out of  45 | elapsed:   50.9s finished\n"
     ]
    },
    {
     "name": "stdout",
     "output_type": "stream",
     "text": [
      "\n",
      "Train Score: 0.9658363494563154\n",
      "Test Score: 0.874785782501736\n",
      "AUC Score: 0.874785782501736\n",
      "\n",
      "              precision    recall  f1-score   support\n",
      "\n",
      "        html      0.629     0.547     0.585       320\n",
      "  javascript      0.821     0.603     0.695       496\n",
      "      python      0.782     0.895     0.835      1207\n",
      "\n",
      "    accuracy                          0.768      2023\n",
      "   macro avg      0.744     0.681     0.705      2023\n",
      "weighted avg      0.768     0.768     0.761      2023\n",
      "\n"
     ]
    },
    {
     "data": {
      "image/png": "[encoded data removed]",
      "text/plain": [
       "<Figure size 475.2x475.2 with 1 Axes>"
      ]
     },
     "metadata": {
      "needs_background": "light"
     },
     "output_type": "display_data"
    },
    {
     "name": "stdout",
     "output_type": "stream",
     "text": [
      "\n",
      "\n",
      "**************************************************\n",
      "BEST MODEL SO FAR: Pipeline(steps=[('prep',\n",
      "                 TfidfVectorizer(max_df=0.9, ngram_range=(1, 2),\n",
      "                                 stop_words=frozenset({'a', 'about', 'above',\n",
      "                                                       'across', 'after',\n",
      "                                                       'afterwards', 'again',\n",
      "                                                       'against', 'all',\n",
      "                                                       'almost', 'alone',\n",
      "                                                       'along', 'already',\n",
      "                                                       'also', 'although',\n",
      "                                                       'always', 'am', 'among',\n",
      "                                                       'amongst', 'amoungst',\n",
      "                                                       'amount', 'an', 'and',\n",
      "                                                       'another', 'any',\n",
      "                                                       'anyhow', 'anyone',\n",
      "                                                       'anything', 'anyway',\n",
      "                                                       'anywhere', ...}))),\n",
      "                ('clf',\n",
      "                 LogisticRegression(C=0.99, fit_intercept=False,\n",
      "                                    max_iter=1000))])\n",
      "\n",
      "\n",
      "**************************************************\n",
      "Model: Multinomial Bayes Classifier\n",
      "\n",
      "Fitting 3 folds for each of 2 candidates, totalling 6 fits\n"
     ]
    },
    {
     "name": "stderr",
     "output_type": "stream",
     "text": [
      "[Parallel(n_jobs=-1)]: Using backend LokyBackend with 12 concurrent workers.\n",
      "[Parallel(n_jobs=-1)]: Done   3 out of   6 | elapsed:    0.2s remaining:    0.2s\n",
      "[Parallel(n_jobs=-1)]: Done   6 out of   6 | elapsed:    0.2s finished\n"
     ]
    },
    {
     "name": "stdout",
     "output_type": "stream",
     "text": [
      "\n",
      "Train Score: 0.9992599685231335\n",
      "Test Score: 0.9121318405608996\n",
      "AUC Score: 0.9121318405608996\n",
      "\n",
      "              precision    recall  f1-score   support\n",
      "\n",
      "        html      0.649     0.747     0.695       320\n",
      "  javascript      0.697     0.764     0.729       496\n",
      "      python      0.868     0.799     0.832      1207\n",
      "\n",
      "    accuracy                          0.782      2023\n",
      "   macro avg      0.738     0.770     0.752      2023\n",
      "weighted avg      0.791     0.782     0.785      2023\n",
      "\n"
     ]
    },
    {
     "data": {
      "image/png": "[encoded data removed]",
      "text/plain": [
       "<Figure size 475.2x475.2 with 1 Axes>"
      ]
     },
     "metadata": {
      "needs_background": "light"
     },
     "output_type": "display_data"
    },
    {
     "name": "stdout",
     "output_type": "stream",
     "text": [
      "\n",
      "\n",
      "**************************************************\n",
      "BEST MODEL SO FAR: Pipeline(steps=[('prep',\n",
      "                 TfidfVectorizer(max_df=0.9, ngram_range=(1, 2),\n",
      "                                 stop_words=frozenset({'a', 'about', 'above',\n",
      "                                                       'across', 'after',\n",
      "                                                       'afterwards', 'again',\n",
      "                                                       'against', 'all',\n",
      "                                                       'almost', 'alone',\n",
      "                                                       'along', 'already',\n",
      "                                                       'also', 'although',\n",
      "                                                       'always', 'am', 'among',\n",
      "                                                       'amongst', 'amoungst',\n",
      "                                                       'amount', 'an', 'and',\n",
      "                                                       'another', 'any',\n",
      "                                                       'anyhow', 'anyone',\n",
      "                                                       'anything', 'anyway',\n",
      "                                                       'anywhere', ...}))),\n",
      "                ('clf', MultinomialNB(alpha=0.1189, fit_prior=False))])\n",
      "\n",
      "\n",
      "**************************************************\n",
      "Model: Support Vector Classifier\n",
      "\n",
      "Fitting 3 folds for each of 2 candidates, totalling 6 fits\n"
     ]
    },
    {
     "name": "stderr",
     "output_type": "stream",
     "text": [
      "[Parallel(n_jobs=-1)]: Using backend LokyBackend with 12 concurrent workers.\n",
      "[Parallel(n_jobs=-1)]: Done   3 out of   6 | elapsed:   10.0s remaining:   10.0s\n",
      "[Parallel(n_jobs=-1)]: Done   6 out of   6 | elapsed:   10.1s finished\n"
     ]
    },
    {
     "name": "stdout",
     "output_type": "stream",
     "text": [
      "\n",
      "Train Score: 0.9919875465895921\n",
      "Test Score: 0.9045249662147454\n",
      "AUC Score: 0.9045249662147454\n",
      "\n",
      "              precision    recall  f1-score   support\n",
      "\n",
      "        html      0.776     0.553     0.646       320\n",
      "  javascript      0.861     0.625     0.724       496\n",
      "      python      0.794     0.944     0.863      1207\n",
      "\n",
      "    accuracy                          0.804      2023\n",
      "   macro avg      0.811     0.708     0.744      2023\n",
      "weighted avg      0.808     0.804     0.795      2023\n",
      "\n"
     ]
    },
    {
     "data": {
      "image/png": "[encoded data removed]",
      "text/plain": [
       "<Figure size 475.2x475.2 with 1 Axes>"
      ]
     },
     "metadata": {
      "needs_background": "light"
     },
     "output_type": "display_data"
    },
    {
     "name": "stdout",
     "output_type": "stream",
     "text": [
      "\n",
      "\n",
      "**************************************************\n",
      "BEST MODEL SO FAR: Pipeline(steps=[('prep',\n",
      "                 TfidfVectorizer(max_df=0.9, ngram_range=(1, 2),\n",
      "                                 stop_words=frozenset({'a', 'about', 'above',\n",
      "                                                       'across', 'after',\n",
      "                                                       'afterwards', 'again',\n",
      "                                                       'against', 'all',\n",
      "                                                       'almost', 'alone',\n",
      "                                                       'along', 'already',\n",
      "                                                       'also', 'although',\n",
      "                                                       'always', 'am', 'among',\n",
      "                                                       'amongst', 'amoungst',\n",
      "                                                       'amount', 'an', 'and',\n",
      "                                                       'another', 'any',\n",
      "                                                       'anyhow', 'anyone',\n",
      "                                                       'anything', 'anyway',\n",
      "                                                       'anywhere', ...}))),\n",
      "                ('clf', MultinomialNB(alpha=0.1189, fit_prior=False))])\n",
      "\n",
      "\n",
      "**************************************************\n",
      "Model: Stochastic Gradient Descent Classifier\n",
      "\n",
      "Fitting 3 folds for each of 1 candidates, totalling 3 fits\n"
     ]
    },
    {
     "name": "stderr",
     "output_type": "stream",
     "text": [
      "[Parallel(n_jobs=-1)]: Using backend LokyBackend with 12 concurrent workers.\n",
      "[Parallel(n_jobs=-1)]: Done   3 out of   3 | elapsed:    0.2s remaining:    0.0s\n",
      "[Parallel(n_jobs=-1)]: Done   3 out of   3 | elapsed:    0.2s finished\n"
     ]
    },
    {
     "name": "stdout",
     "output_type": "stream",
     "text": [
      "\n",
      "Train Score: 0.9993983909110633\n",
      "Test Score: 0.9056204869343576\n",
      "AUC Score: 0.9056204869343576\n",
      "\n",
      "              precision    recall  f1-score   support\n",
      "\n",
      "        html      0.713     0.644     0.677       320\n",
      "  javascript      0.802     0.696     0.745       496\n",
      "      python      0.831     0.897     0.863      1207\n",
      "\n",
      "    accuracy                          0.808      2023\n",
      "   macro avg      0.782     0.746     0.761      2023\n",
      "weighted avg      0.805     0.808     0.804      2023\n",
      "\n"
     ]
    },
    {
     "data": {
      "image/png": "[encoded data removed]",
      "text/plain": [
       "<Figure size 475.2x475.2 with 1 Axes>"
      ]
     },
     "metadata": {
      "needs_background": "light"
     },
     "output_type": "display_data"
    },
    {
     "name": "stdout",
     "output_type": "stream",
     "text": [
      "\n",
      "\n",
      "**************************************************\n",
      "BEST MODEL SO FAR: Pipeline(steps=[('prep',\n",
      "                 TfidfVectorizer(max_df=0.9, ngram_range=(1, 2),\n",
      "                                 stop_words=frozenset({'a', 'about', 'above',\n",
      "                                                       'across', 'after',\n",
      "                                                       'afterwards', 'again',\n",
      "                                                       'against', 'all',\n",
      "                                                       'almost', 'alone',\n",
      "                                                       'along', 'already',\n",
      "                                                       'also', 'although',\n",
      "                                                       'always', 'am', 'among',\n",
      "                                                       'amongst', 'amoungst',\n",
      "                                                       'amount', 'an', 'and',\n",
      "                                                       'another', 'any',\n",
      "                                                       'anyhow', 'anyone',\n",
      "                                                       'anything', 'anyway',\n",
      "                                                       'anywhere', ...}))),\n",
      "                ('clf', MultinomialNB(alpha=0.1189, fit_prior=False))])\n",
      "\n",
      "\n",
      "**************************************************\n",
      "Model: XGBoost Classifier\n",
      "\n",
      "Fitting 3 folds for each of 3 candidates, totalling 9 fits\n"
     ]
    },
    {
     "name": "stderr",
     "output_type": "stream",
     "text": [
      "[Parallel(n_jobs=-1)]: Using backend LokyBackend with 12 concurrent workers.\n",
      "[Parallel(n_jobs=-1)]: Done   2 out of   9 | elapsed:   10.2s remaining:   35.5s\n",
      "[Parallel(n_jobs=-1)]: Done   4 out of   9 | elapsed:   13.2s remaining:   16.4s\n",
      "[Parallel(n_jobs=-1)]: Done   6 out of   9 | elapsed:   13.3s remaining:    6.7s\n",
      "[Parallel(n_jobs=-1)]: Done   9 out of   9 | elapsed:   19.2s finished\n"
     ]
    },
    {
     "name": "stdout",
     "output_type": "stream",
     "text": [
      "\n",
      "Train Score: 0.9701254649141636\n",
      "Test Score: 0.8735599212469122\n",
      "AUC Score: 0.8735599212469122\n",
      "\n",
      "              precision    recall  f1-score   support\n",
      "\n",
      "        html      0.620     0.494     0.550       320\n",
      "  javascript      0.877     0.532     0.662       496\n",
      "      python      0.755     0.918     0.829      1207\n",
      "\n",
      "    accuracy                          0.756      2023\n",
      "   macro avg      0.751     0.648     0.680      2023\n",
      "weighted avg      0.764     0.756     0.744      2023\n",
      "\n"
     ]
    },
    {
     "data": {
      "image/png": "[encoded data removed]",
      "text/plain": [
       "<Figure size 475.2x475.2 with 1 Axes>"
      ]
     },
     "metadata": {
      "needs_background": "light"
     },
     "output_type": "display_data"
    },
    {
     "name": "stdout",
     "output_type": "stream",
     "text": [
      "\n",
      "\n",
      "**************************************************\n",
      "BEST MODEL SO FAR: Pipeline(steps=[('prep',\n",
      "                 TfidfVectorizer(max_df=0.9, ngram_range=(1, 2),\n",
      "                                 stop_words=frozenset({'a', 'about', 'above',\n",
      "                                                       'across', 'after',\n",
      "                                                       'afterwards', 'again',\n",
      "                                                       'against', 'all',\n",
      "                                                       'almost', 'alone',\n",
      "                                                       'along', 'already',\n",
      "                                                       'also', 'although',\n",
      "                                                       'always', 'am', 'among',\n",
      "                                                       'amongst', 'amoungst',\n",
      "                                                       'amount', 'an', 'and',\n",
      "                                                       'another', 'any',\n",
      "                                                       'anyhow', 'anyone',\n",
      "                                                       'anything', 'anyway',\n",
      "                                                       'anywhere', ...}))),\n",
      "                ('clf', MultinomialNB(alpha=0.1189, fit_prior=False))])\n",
      "\n",
      "\n"
     ]
    }
   ],
   "source": [
    "fitted_models = dict()\n",
    "best_auc_score = 0.0\n",
    "best_model = None\n",
    "\n",
    "for name, estimator in estimators.items():\n",
    "    print(\"*\"*50)\n",
    "    print(f'Model: {estimator.get(\"name\")}')\n",
    "    print()\n",
    "    model = build_model(preprocessor=tfidf, classifier=estimator, cv=5, verbose=0)\n",
    "    model.fit(X_train, y_train)\n",
    "    print()\n",
    "    train_score = model.score(X_train, y_train)\n",
    "    test_score = model.score(X_test, y_test)\n",
    "    print(f'Train Score: {train_score}')\n",
    "    print(f'Test Score: {test_score}')\n",
    "    \n",
    "    if hasattr(model, 'predict_proba'):\n",
    "        y_proba = model.predict_proba(X_test)\n",
    "        auc = roc_auc_score(y_test, y_proba, multi_class=\"ovr\")\n",
    "        print(f'AUC Score: {auc}')\n",
    "    print()    \n",
    "    y_pred = model.predict(X_test)\n",
    "    print(classification_report(y_test, y_pred, digits=3))\n",
    "    viz = Visualizer(X=X_train, y=y_train, \n",
    "                    transformer=model.best_estimator_.named_steps.prep,\n",
    "                    classifier=model.best_estimator_.named_steps.clf)\n",
    "    \n",
    "    viz.plot_confusion_matrix(y_test, y_pred)\n",
    "    plt.show() # so it doesn't put them all at the end\n",
    "    print()\n",
    "    print()\n",
    "    fitted_models[name] = {\n",
    "        'auc_score': auc,\n",
    "        'train_score': train_score,\n",
    "        'test_score': test_score\n",
    "    }\n",
    "    if auc > best_auc_score:\n",
    "        best_auc_score = auc\n",
    "        best_model = model.best_estimator_\n",
    "    \n",
    "    print(\"*\"*50)\n",
    "    print('BEST MODEL SO FAR:', best_model)\n",
    "    print()\n",
    "    print()"
   ]
  },
  {
   "cell_type": "code",
   "execution_count": 10,
   "metadata": {},
   "outputs": [
    {
     "data": {
      "text/html": [
       "<div>\n",
       "<style scoped>\n",
       "    .dataframe tbody tr th:only-of-type {\n",
       "        vertical-align: middle;\n",
       "    }\n",
       "\n",
       "    .dataframe tbody tr th {\n",
       "        vertical-align: top;\n",
       "    }\n",
       "\n",
       "    .dataframe thead th {\n",
       "        text-align: right;\n",
       "    }\n",
       "</style>\n",
       "<table border=\"1\" class=\"dataframe\">\n",
       "  <thead>\n",
       "    <tr style=\"text-align: right;\">\n",
       "      <th></th>\n",
       "      <th>auc_score</th>\n",
       "      <th>train_score</th>\n",
       "      <th>test_score</th>\n",
       "    </tr>\n",
       "  </thead>\n",
       "  <tbody>\n",
       "    <tr>\n",
       "      <th>logisticregression</th>\n",
       "      <td>0.896193</td>\n",
       "      <td>0.991660</td>\n",
       "      <td>0.896193</td>\n",
       "    </tr>\n",
       "    <tr>\n",
       "      <th>randomforestclassifier</th>\n",
       "      <td>0.874786</td>\n",
       "      <td>0.965836</td>\n",
       "      <td>0.874786</td>\n",
       "    </tr>\n",
       "    <tr>\n",
       "      <th>multinomialnb</th>\n",
       "      <td>0.912132</td>\n",
       "      <td>0.999260</td>\n",
       "      <td>0.912132</td>\n",
       "    </tr>\n",
       "    <tr>\n",
       "      <th>svc</th>\n",
       "      <td>0.904525</td>\n",
       "      <td>0.991988</td>\n",
       "      <td>0.904525</td>\n",
       "    </tr>\n",
       "    <tr>\n",
       "      <th>sgdclassifier</th>\n",
       "      <td>0.905620</td>\n",
       "      <td>0.999398</td>\n",
       "      <td>0.905620</td>\n",
       "    </tr>\n",
       "    <tr>\n",
       "      <th>xgbclassifier</th>\n",
       "      <td>0.873560</td>\n",
       "      <td>0.970125</td>\n",
       "      <td>0.873560</td>\n",
       "    </tr>\n",
       "  </tbody>\n",
       "</table>\n",
       "</div>"
      ],
      "text/plain": [
       "                        auc_score  train_score  test_score\n",
       "logisticregression       0.896193     0.991660    0.896193\n",
       "randomforestclassifier   0.874786     0.965836    0.874786\n",
       "multinomialnb            0.912132     0.999260    0.912132\n",
       "svc                      0.904525     0.991988    0.904525\n",
       "sgdclassifier            0.905620     0.999398    0.905620\n",
       "xgbclassifier            0.873560     0.970125    0.873560"
      ]
     },
     "execution_count": 10,
     "metadata": {},
     "output_type": "execute_result"
    }
   ],
   "source": [
    "model_output = pd.DataFrame(fitted_models).T\n",
    "model_output"
   ]
  },
  {
   "cell_type": "code",
   "execution_count": 11,
   "metadata": {},
   "outputs": [
    {
     "data": {
      "text/plain": [
       "Pipeline(steps=[('prep',\n",
       "                 TfidfVectorizer(max_df=0.9, ngram_range=(1, 2),\n",
       "                                 stop_words=frozenset({'a', 'about', 'above',\n",
       "                                                       'across', 'after',\n",
       "                                                       'afterwards', 'again',\n",
       "                                                       'against', 'all',\n",
       "                                                       'almost', 'alone',\n",
       "                                                       'along', 'already',\n",
       "                                                       'also', 'although',\n",
       "                                                       'always', 'am', 'among',\n",
       "                                                       'amongst', 'amoungst',\n",
       "                                                       'amount', 'an', 'and',\n",
       "                                                       'another', 'any',\n",
       "                                                       'anyhow', 'anyone',\n",
       "                                                       'anything', 'anyway',\n",
       "                                                       'anywhere', ...}))),\n",
       "                ('clf', MultinomialNB(alpha=0.1189, fit_prior=False))])"
      ]
     },
     "execution_count": 11,
     "metadata": {},
     "output_type": "execute_result"
    }
   ],
   "source": [
    "best_model"
   ]
  },
  {
   "cell_type": "code",
   "execution_count": 13,
   "metadata": {},
   "outputs": [
    {
     "data": {
      "text/plain": [
       "['01_best_model']"
      ]
     },
     "execution_count": 13,
     "metadata": {},
     "output_type": "execute_result"
    }
   ],
   "source": [
    "joblib.dump(best_model, '01_best_model')"
   ]
  },
  {
   "cell_type": "code",
   "execution_count": null,
   "metadata": {},
   "outputs": [],
   "source": []
  }
 ],
 "metadata": {
  "kernelspec": {
   "display_name": "Python 3",
   "language": "python",
   "name": "python3"
  },
  "language_info": {
   "codemirror_mode": {
    "name": "ipython",
    "version": 3
   },
   "file_extension": ".py",
   "mimetype": "text/x-python",
   "name": "python",
   "nbconvert_exporter": "python",
   "pygments_lexer": "ipython3",
   "version": "3.8.2"
  },
  "toc": {
   "base_numbering": 1,
   "nav_menu": {},
   "number_sections": true,
   "sideBar": true,
   "skip_h1_title": false,
   "title_cell": "Table of Contents",
   "title_sidebar": "Contents",
   "toc_cell": false,
   "toc_position": {},
   "toc_section_display": true,
   "toc_window_display": false
  },
  "varInspector": {
   "cols": {
    "lenName": 16,
    "lenType": 16,
    "lenVar": 40
   },
   "kernels_config": {
    "python": {
     "delete_cmd_postfix": "",
     "delete_cmd_prefix": "del ",
     "library": "var_list.py",
     "varRefreshCmd": "print(var_dic_list())"
    },
    "r": {
     "delete_cmd_postfix": ") ",
     "delete_cmd_prefix": "rm(",
     "library": "var_list.r",
     "varRefreshCmd": "cat(var_dic_list()) "
    }
   },
   "types_to_exclude": [
    "module",
    "function",
    "builtin_function_or_method",
    "instance",
    "_Feature"
   ],
   "window_display": false
  }
 },
 "nbformat": 4,
 "nbformat_minor": 4
}
