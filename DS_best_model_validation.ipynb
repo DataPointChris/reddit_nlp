{
 "cells": [
  {
   "cell_type": "markdown",
   "metadata": {},
   "source": [
    "# Best Model Validation\n"
   ]
  },
  {
   "cell_type": "markdown",
   "metadata": {},
   "source": [
    "---"
   ]
  },
  {
   "cell_type": "code",
   "execution_count": 20,
   "metadata": {},
   "outputs": [],
   "source": [
    "import pandas as pd\n",
    "import numpy as np\n",
    "from sklearn.feature_extraction.text import CountVectorizer, TfidfVectorizer, ENGLISH_STOP_WORDS\n",
    "from sklearn.pipeline import Pipeline\n",
    "from sklearn.model_selection import train_test_split, GridSearchCV, cross_validate\n",
    "from sklearn.neural_network import MLPClassifier\n",
    "from sklearn.metrics import confusion_matrix, multilabel_confusion_matrix\n",
    "from sklearn.metrics import roc_auc_score, roc_curve, classification_report\n",
    "from sklearn.multiclass import OneVsRestClassifier\n",
    "from sklearn.ensemble import RandomForestClassifier\n",
    "from sklearn.linear_model import LogisticRegression\n",
    "import time\n",
    "import datetime\n",
    "import seaborn as sns\n",
    "import matplotlib.pyplot as plt\n",
    "%matplotlib inline\n",
    "from glob import glob\n",
    "from pprint import pprint\n",
    "from xgboost import XGBClassifier\n",
    "\n",
    "%load_ext autoreload\n",
    "%autoreload 2"
   ]
  },
  {
   "cell_type": "code",
   "execution_count": 2,
   "metadata": {},
   "outputs": [],
   "source": [
    "from util import databases\n",
    "from util import dataloader\n",
    "from util import grid_models\n",
    "from util.reddit_functions import Labeler\n",
    "from util.reddit_functions import plot_confusion_matrix\n",
    "from util.grid_models import custom_stop_words"
   ]
  },
  {
   "cell_type": "code",
   "execution_count": 3,
   "metadata": {},
   "outputs": [],
   "source": [
    "def build_and_train_model(preprocessor, classifier, cv=3, verbose=1):\n",
    "    '''\n",
    "    Takes a dictionary with params and outputs a fitted model\n",
    "    '''\n",
    "    pipe = Pipeline(\n",
    "    [('prep', preprocessor.get('preprocessor')),\n",
    "     ('clf', classifier.get('clf'))])\n",
    "    \n",
    "    pipe_params = dict()\n",
    "    pipe_params.update(preprocessor.get('params'))\n",
    "    pipe_params.update(classifier.get('params'))\n",
    "    \n",
    "    model = GridSearchCV(pipe, param_grid=pipe_params, cv=cv, verbose=verbose, n_jobs=-1)\n",
    "    model.fit(X_train, y_train)\n",
    "    return model"
   ]
  },
  {
   "cell_type": "code",
   "execution_count": 4,
   "metadata": {},
   "outputs": [],
   "source": [
    "def score_model(model):\n",
    "    \n",
    "    print(f'Train Score: {model.score(X_train, y_train)}')\n",
    "    print(f'Test Score: {model.score(X_test, y_test)}')\n",
    "    print(f'AUC Score: {roc_auc_score(y_test, y_proba, multi_class=\"ovr\")}')\n",
    "    print(classification_report(y_test, y_pred, digits=3))"
   ]
  },
  {
   "cell_type": "code",
   "execution_count": 5,
   "metadata": {},
   "outputs": [],
   "source": [
    "# subreddit_list = ['css', 'html', 'javascript', 'php', 'perl', 'java', 'datascience', 'machinelearning', 'etl', 'python', 'dataengineering']"
   ]
  },
  {
   "cell_type": "code",
   "execution_count": 6,
   "metadata": {},
   "outputs": [],
   "source": [
    "subreddit_list = ['datascience','machinelearning','dataengineering','python','aws']"
   ]
  },
  {
   "cell_type": "code",
   "execution_count": 7,
   "metadata": {
    "scrolled": false
   },
   "outputs": [
    {
     "name": "stdout",
     "output_type": "stream",
     "text": [
      "Connection to SQLite DB successful\n"
     ]
    }
   ],
   "source": [
    "df = dataloader.data_selector(subreddit_list, 'sqlite')"
   ]
  },
  {
   "cell_type": "code",
   "execution_count": 8,
   "metadata": {},
   "outputs": [
    {
     "data": {
      "text/html": [
       "<div>\n",
       "<style scoped>\n",
       "    .dataframe tbody tr th:only-of-type {\n",
       "        vertical-align: middle;\n",
       "    }\n",
       "\n",
       "    .dataframe tbody tr th {\n",
       "        vertical-align: top;\n",
       "    }\n",
       "\n",
       "    .dataframe thead th {\n",
       "        text-align: right;\n",
       "    }\n",
       "</style>\n",
       "<table border=\"1\" class=\"dataframe\">\n",
       "  <thead>\n",
       "    <tr style=\"text-align: right;\">\n",
       "      <th></th>\n",
       "      <th>title</th>\n",
       "      <th>subreddit</th>\n",
       "      <th>date</th>\n",
       "    </tr>\n",
       "  </thead>\n",
       "  <tbody>\n",
       "    <tr>\n",
       "      <th>7056</th>\n",
       "      <td>[R] Reservoir memory machines</td>\n",
       "      <td>machinelearning</td>\n",
       "      <td>2020-04-02</td>\n",
       "    </tr>\n",
       "    <tr>\n",
       "      <th>35028</th>\n",
       "      <td>[Discussion] [ML UTD 4] Machine Learning Up-To...</td>\n",
       "      <td>datascience</td>\n",
       "      <td>2020-04-23</td>\n",
       "    </tr>\n",
       "    <tr>\n",
       "      <th>19270</th>\n",
       "      <td>How to query dynamoDB table with Java? Specifi...</td>\n",
       "      <td>aws</td>\n",
       "      <td>2020-04-20</td>\n",
       "    </tr>\n",
       "    <tr>\n",
       "      <th>31345</th>\n",
       "      <td>[P] Peaple.IO, the synthetic social network</td>\n",
       "      <td>machinelearning</td>\n",
       "      <td>2020-04-22</td>\n",
       "    </tr>\n",
       "    <tr>\n",
       "      <th>45779</th>\n",
       "      <td>[Project] dataget: a framework-agnostic datase...</td>\n",
       "      <td>machinelearning</td>\n",
       "      <td>2020-04-25</td>\n",
       "    </tr>\n",
       "    <tr>\n",
       "      <th>42903</th>\n",
       "      <td>Big Data Project with Hadoop, Tajo, and Spark</td>\n",
       "      <td>dataengineering</td>\n",
       "      <td>2020-04-24</td>\n",
       "    </tr>\n",
       "    <tr>\n",
       "      <th>43734</th>\n",
       "      <td>Large scale NLU menu management</td>\n",
       "      <td>aws</td>\n",
       "      <td>2020-04-25</td>\n",
       "    </tr>\n",
       "    <tr>\n",
       "      <th>50674</th>\n",
       "      <td>I made a script to automatically play given no...</td>\n",
       "      <td>python</td>\n",
       "      <td>2020-04-27</td>\n",
       "    </tr>\n",
       "    <tr>\n",
       "      <th>51493</th>\n",
       "      <td>Is Visual Studio 2019 any good for python deve...</td>\n",
       "      <td>python</td>\n",
       "      <td>2020-04-27</td>\n",
       "    </tr>\n",
       "    <tr>\n",
       "      <th>45203</th>\n",
       "      <td>[D] Video Analysis - Imputer: Sequence Modelli...</td>\n",
       "      <td>machinelearning</td>\n",
       "      <td>2020-04-25</td>\n",
       "    </tr>\n",
       "  </tbody>\n",
       "</table>\n",
       "</div>"
      ],
      "text/plain": [
       "                                                   title        subreddit  \\\n",
       "7056                       [R] Reservoir memory machines  machinelearning   \n",
       "35028  [Discussion] [ML UTD 4] Machine Learning Up-To...      datascience   \n",
       "19270  How to query dynamoDB table with Java? Specifi...              aws   \n",
       "31345        [P] Peaple.IO, the synthetic social network  machinelearning   \n",
       "45779  [Project] dataget: a framework-agnostic datase...  machinelearning   \n",
       "42903      Big Data Project with Hadoop, Tajo, and Spark  dataengineering   \n",
       "43734                    Large scale NLU menu management              aws   \n",
       "50674  I made a script to automatically play given no...           python   \n",
       "51493  Is Visual Studio 2019 any good for python deve...           python   \n",
       "45203  [D] Video Analysis - Imputer: Sequence Modelli...  machinelearning   \n",
       "\n",
       "             date  \n",
       "7056   2020-04-02  \n",
       "35028  2020-04-23  \n",
       "19270  2020-04-20  \n",
       "31345  2020-04-22  \n",
       "45779  2020-04-25  \n",
       "42903  2020-04-24  \n",
       "43734  2020-04-25  \n",
       "50674  2020-04-27  \n",
       "51493  2020-04-27  \n",
       "45203  2020-04-25  "
      ]
     },
     "execution_count": 8,
     "metadata": {},
     "output_type": "execute_result"
    }
   ],
   "source": [
    "df.sample(10)"
   ]
  },
  {
   "cell_type": "code",
   "execution_count": 9,
   "metadata": {},
   "outputs": [],
   "source": [
    "X = df['title']\n",
    "y = df['subreddit']"
   ]
  },
  {
   "cell_type": "code",
   "execution_count": 10,
   "metadata": {},
   "outputs": [],
   "source": [
    "labeler = Labeler()\n",
    "labeler.fit(y)\n",
    "y = labeler.transform(y)"
   ]
  },
  {
   "cell_type": "code",
   "execution_count": 11,
   "metadata": {},
   "outputs": [],
   "source": [
    "X_train, X_test, y_train, y_test = train_test_split(X, y, random_state=7)"
   ]
  },
  {
   "cell_type": "code",
   "execution_count": 12,
   "metadata": {},
   "outputs": [],
   "source": [
    "tfidf = {\n",
    "    'preprocessor': TfidfVectorizer(stop_words=custom_stop_words),\n",
    "    'params': {\n",
    "        \"prep__ngram_range\": [(1, 2)],\n",
    "        \"prep__max_df\": [.7, .8, .9],\n",
    "        \"prep__use_idf\": [True],\n",
    "        \"prep__norm\": [\"l2\"]\n",
    "    }\n",
    "}"
   ]
  },
  {
   "cell_type": "code",
   "execution_count": 13,
   "metadata": {},
   "outputs": [],
   "source": [
    "lr = {\n",
    "    'clf': LogisticRegression(max_iter=1000),\n",
    "    'params': {\n",
    "        \"clf__C\": [.01, .1, 1, 5]\n",
    "    }\n",
    "    \n",
    "}"
   ]
  },
  {
   "cell_type": "code",
   "execution_count": 14,
   "metadata": {},
   "outputs": [],
   "source": [
    "mlp = {\n",
    "    'clf': MLPClassifier(),\n",
    "    'params': {\n",
    "        \"clf__hidden_layer_sizes\": [50, 100, 200]\n",
    "    }\n",
    "}"
   ]
  },
  {
   "cell_type": "code",
   "execution_count": 15,
   "metadata": {},
   "outputs": [],
   "source": [
    "xgb = {\n",
    "    'clf': XGBClassifier(),\n",
    "    'params': {\n",
    "        \"clf__hidden_layer_sizes\": [10, 25, 50],\n",
    "        \"clf__n_estimators\": [50, 100, 200],\n",
    "        \"clf__max_depth\": [5, 10, 20]\n",
    "    }\n",
    "}"
   ]
  },
  {
   "cell_type": "code",
   "execution_count": 16,
   "metadata": {
    "scrolled": false
   },
   "outputs": [],
   "source": [
    "onevrest = {\n",
    "    'clf': OneVsRestClassifier(RandomForestClassifier()),\n",
    "    'params': {\n",
    "        \"clf__estimator__n_estimators\": [200, 300]\n",
    "    }\n",
    "}"
   ]
  },
  {
   "cell_type": "code",
   "execution_count": 17,
   "metadata": {},
   "outputs": [
    {
     "name": "stdout",
     "output_type": "stream",
     "text": [
      "Fitting 3 folds for each of 12 candidates, totalling 36 fits\n"
     ]
    },
    {
     "name": "stderr",
     "output_type": "stream",
     "text": [
      "[Parallel(n_jobs=-1)]: Using backend LokyBackend with 12 concurrent workers.\n",
      "[Parallel(n_jobs=-1)]: Done  36 out of  36 | elapsed:  1.3min finished\n"
     ]
    },
    {
     "name": "stdout",
     "output_type": "stream",
     "text": [
      "Train Score: 0.9933051280859175\n",
      "Test Score: 0.9836122733612274\n",
      "AUC Score: 0.9979727821180688\n",
      "              precision    recall  f1-score   support\n",
      "\n",
      "           0      0.993     0.992     0.992      2962\n",
      "           1      0.975     0.982     0.979      2613\n",
      "           2      0.985     0.990     0.988      2998\n",
      "           3      0.984     0.971     0.977      2784\n",
      "           4      0.981     0.982     0.981      2983\n",
      "\n",
      "    accuracy                          0.984     14340\n",
      "   macro avg      0.983     0.983     0.983     14340\n",
      "weighted avg      0.984     0.984     0.984     14340\n",
      "\n"
     ]
    }
   ],
   "source": [
    "for estimator in [lr]:\n",
    "    \n",
    "    model = build_and_train_model(preprocessor=tfidf, classifier=estimator)\n",
    "    y_pred = model.predict(X_test)\n",
    "    y_proba = model.predict_proba(X_test)\n",
    "    score_model(model)\n",
    "    plot_confusion_matrix(model, y_true=y_test, y_pred=y_pred, classes=labeler.classes_)"
   ]
  },
  {
   "cell_type": "code",
   "execution_count": null,
   "metadata": {},
   "outputs": [],
   "source": []
  },
  {
   "cell_type": "code",
   "execution_count": null,
   "metadata": {},
   "outputs": [],
   "source": []
  },
  {
   "cell_type": "code",
   "execution_count": null,
   "metadata": {},
   "outputs": [],
   "source": [
    "from sklearn.learning_curve import validation_curve\n",
    "degree = np.arange(0, 21)\n",
    "train_score, val_score = validation_curve(PolynomialRegression(), X, y,\n",
    "'polynomialfeatures__degree', degree, cv=7)\n",
    "plt.plot(degree, np.median(train_score, 1), color='blue', label='training score') plt.plot(degree, np.median(val_score, 1), color='red', label='validation score') plt.legend(loc='best')\n",
    "plt.ylim(0, 1)\n",
    "plt.xlabel('degree') plt.ylabel('score');"
   ]
  }
 ],
 "metadata": {
  "kernelspec": {
   "display_name": "Python 3",
   "language": "python",
   "name": "python3"
  },
  "language_info": {
   "codemirror_mode": {
    "name": "ipython",
    "version": 3
   },
   "file_extension": ".py",
   "mimetype": "text/x-python",
   "name": "python",
   "nbconvert_exporter": "python",
   "pygments_lexer": "ipython3",
   "version": "3.7.4"
  },
  "toc": {
   "base_numbering": 1,
   "nav_menu": {},
   "number_sections": true,
   "sideBar": true,
   "skip_h1_title": false,
   "title_cell": "Table of Contents",
   "title_sidebar": "Contents",
   "toc_cell": false,
   "toc_position": {},
   "toc_section_display": true,
   "toc_window_display": false
  },
  "varInspector": {
   "cols": {
    "lenName": 16,
    "lenType": 16,
    "lenVar": 40
   },
   "kernels_config": {
    "python": {
     "delete_cmd_postfix": "",
     "delete_cmd_prefix": "del ",
     "library": "var_list.py",
     "varRefreshCmd": "print(var_dic_list())"
    },
    "r": {
     "delete_cmd_postfix": ") ",
     "delete_cmd_prefix": "rm(",
     "library": "var_list.r",
     "varRefreshCmd": "cat(var_dic_list()) "
    }
   },
   "types_to_exclude": [
    "module",
    "function",
    "builtin_function_or_method",
    "instance",
    "_Feature"
   ],
   "window_display": false
  }
 },
 "nbformat": 4,
 "nbformat_minor": 4
}
