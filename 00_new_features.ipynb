{
 "metadata": {
  "language_info": {
   "codemirror_mode": {
    "name": "ipython",
    "version": 3
   },
   "file_extension": ".py",
   "mimetype": "text/x-python",
   "name": "python",
   "nbconvert_exporter": "python",
   "pygments_lexer": "ipython3",
   "version": 3
  },
  "orig_nbformat": 2
 },
 "nbformat": 4,
 "nbformat_minor": 2,
 "cells": [
  {
   "source": [
    "https://towardsdatascience.com/how-i-improved-my-text-classification-model-with-feature-engineering-98fbe6c13ef3"
   ],
   "cell_type": "markdown",
   "metadata": {}
  },
  {
   "cell_type": "code",
   "execution_count": null,
   "metadata": {},
   "outputs": [],
   "source": [
    "def feature(df) :\n",
    "    df['word_count'] = df['comment_text'].apply(lambda x : len(x.split()))\n",
    "    df['char_count'] = df['comment_text'].apply(lambda x : len(x.replace(\" \",\"\")))\n",
    "    df['word_density'] = df['word_count'] / (df['char_count'] + 1)\n",
    "    df['punc_count'] = df['comment_text'].apply(lambda x : len([a for a in x if a in punc]))\n",
    "    df['total_length'] = df['comment_text'].apply(len)\n",
    "    df['capitals'] = df['comment_text'].apply(lambda comment: sum(1 for c in comment if c.isupper()))\n",
    "    df['caps_vs_length'] = df.apply(lambda row: float(row['capitals'])/float(row['total_length']),axis=1)\n",
    "    df['num_exclamation_marks'] =df['comment_text'].apply(lambda x: x.count('!'))\n",
    "    df['num_question_marks'] = df['comment_text'].apply(lambda x: x.count('?'))\n",
    "    df['num_punctuation'] = df['comment_text'].apply(lambda x: sum(x.count(w) for w in '.,;:'))\n",
    "    df['num_symbols'] = df['comment_text'].apply(lambda x: sum(x.count(w) for w in '*&$%'))\n",
    "    df['num_unique_words'] = df['comment_text'].apply(lambda x: len(set(w for w in x.split())))\n",
    "    df['words_vs_unique'] = df['num_unique_words'] / df['word_count']\n",
    "    df[\"word_unique_percent\"] =  df[\"num_unique_words\"]*100/df['word_count']\n",
    "    return df"
   ]
  },
  {
   "cell_type": "code",
   "execution_count": null,
   "metadata": {},
   "outputs": [],
   "source": []
  }
 ]
}