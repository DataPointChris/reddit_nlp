{
 "cells": [
  {
   "cell_type": "markdown",
   "metadata": {},
   "source": [
    "# Data Science Wordclouds\n",
    "\n",
    "This is a notebook for testing all of the functions to go through an entire data science workflow of running NLP on chosen subreddits.\n",
    "\n",
    "**Future**\n",
    "- DF functions should be removed from workflow and imported using a class.\n",
    "- Multiple example DS outcomes would be nice."
   ]
  },
  {
   "cell_type": "markdown",
   "metadata": {},
   "source": [
    "---"
   ]
  },
  {
   "cell_type": "code",
   "execution_count": 1,
   "metadata": {},
   "outputs": [],
   "source": [
    "import pandas as pd\n",
    "import numpy as np\n",
    "from sklearn.feature_extraction.text import CountVectorizer, TfidfVectorizer, ENGLISH_STOP_WORDS\n",
    "from sklearn.pipeline import Pipeline\n",
    "from sklearn.model_selection import train_test_split, GridSearchCV\n",
    "from sklearn.linear_model import LogisticRegression\n",
    "from sklearn.neighbors import KNeighborsClassifier\n",
    "from sklearn.ensemble import RandomForestClassifier, ExtraTreesClassifier\n",
    "from sklearn.metrics import confusion_matrix, multilabel_confusion_matrix\n",
    "from sklearn.metrics import roc_auc_score, roc_curve, classification_report\n",
    "from sklearn.naive_bayes import MultinomialNB\n",
    "from sklearn.svm import SVC\n",
    "from PIL import Image\n",
    "import wordcloud\n",
    "import time\n",
    "import datetime\n",
    "import seaborn as sns\n",
    "import matplotlib.pyplot as plt\n",
    "%matplotlib inline\n",
    "from glob import glob\n",
    "from pprint import pprint"
   ]
  },
  {
   "cell_type": "code",
   "execution_count": 5,
   "metadata": {},
   "outputs": [
    {
     "ename": "ModuleNotFoundError",
     "evalue": "No module named 'databases'",
     "output_type": "error",
     "traceback": [
      "\u001b[0;31m---------------------------------------------------------------------------\u001b[0m",
      "\u001b[0;31mModuleNotFoundError\u001b[0m                       Traceback (most recent call last)",
      "\u001b[0;32m<ipython-input-5-53d783df4349>\u001b[0m in \u001b[0;36m<module>\u001b[0;34m\u001b[0m\n\u001b[1;32m      1\u001b[0m \u001b[0;32mfrom\u001b[0m \u001b[0mutil\u001b[0m \u001b[0;32mimport\u001b[0m \u001b[0mdatabases\u001b[0m\u001b[0;34m\u001b[0m\u001b[0;34m\u001b[0m\u001b[0m\n\u001b[0;32m----> 2\u001b[0;31m \u001b[0;32mfrom\u001b[0m \u001b[0mutil\u001b[0m \u001b[0;32mimport\u001b[0m \u001b[0mdataloader\u001b[0m\u001b[0;34m\u001b[0m\u001b[0;34m\u001b[0m\u001b[0m\n\u001b[0m\u001b[1;32m      3\u001b[0m \u001b[0;32mfrom\u001b[0m \u001b[0mutil\u001b[0m \u001b[0;32mimport\u001b[0m \u001b[0mgrid_models\u001b[0m\u001b[0;34m\u001b[0m\u001b[0;34m\u001b[0m\u001b[0m\n\u001b[1;32m      4\u001b[0m \u001b[0;32mfrom\u001b[0m \u001b[0mutil\u001b[0m\u001b[0;34m.\u001b[0m\u001b[0mreddit_functions\u001b[0m \u001b[0;32mimport\u001b[0m \u001b[0mReddit\u001b[0m\u001b[0;34m\u001b[0m\u001b[0;34m\u001b[0m\u001b[0m\n",
      "\u001b[0;32m~/github/reddit_nlp/util/dataloader.py\u001b[0m in \u001b[0;36m<module>\u001b[0;34m\u001b[0m\n\u001b[1;32m      4\u001b[0m \u001b[0;32mimport\u001b[0m \u001b[0mpandas\u001b[0m \u001b[0;32mas\u001b[0m \u001b[0mpd\u001b[0m\u001b[0;34m\u001b[0m\u001b[0;34m\u001b[0m\u001b[0m\n\u001b[1;32m      5\u001b[0m \u001b[0;34m\u001b[0m\u001b[0m\n\u001b[0;32m----> 6\u001b[0;31m \u001b[0;32mimport\u001b[0m \u001b[0mdatabases\u001b[0m\u001b[0;34m\u001b[0m\u001b[0;34m\u001b[0m\u001b[0m\n\u001b[0m\u001b[1;32m      7\u001b[0m \u001b[0;32mimport\u001b[0m \u001b[0mscraper\u001b[0m\u001b[0;34m\u001b[0m\u001b[0;34m\u001b[0m\u001b[0m\n\u001b[1;32m      8\u001b[0m \u001b[0;34m\u001b[0m\u001b[0m\n",
      "\u001b[0;31mModuleNotFoundError\u001b[0m: No module named 'databases'"
     ]
    }
   ],
   "source": [
    "from util import databases\n",
    "from util import dataloader\n",
    "from util import grid_models\n",
    "from util.reddit_functions import Reddit"
   ]
  },
  {
   "cell_type": "code",
   "execution_count": null,
   "metadata": {},
   "outputs": [],
   "source": [
    "!pwd"
   ]
  },
  {
   "cell_type": "code",
   "execution_count": null,
   "metadata": {},
   "outputs": [],
   "source": [
    "subreddit_list = ['datascience','machinelearning','dataengineering','python','aws']"
   ]
  },
  {
   "cell_type": "code",
   "execution_count": null,
   "metadata": {
    "scrolled": false
   },
   "outputs": [],
   "source": [
    "df = dataloader.data_selector(subreddit_list, 'sqlite')"
   ]
  },
  {
   "cell_type": "code",
   "execution_count": null,
   "metadata": {},
   "outputs": [],
   "source": [
    "# get rid of list items with no data retrieved\n",
    "subreddit_list = [sub for sub in subreddit_list if sub in df.subreddit.unique()]\n",
    "subreddit_list"
   ]
  },
  {
   "cell_type": "code",
   "execution_count": null,
   "metadata": {},
   "outputs": [],
   "source": [
    "df.sample(10)"
   ]
  },
  {
   "cell_type": "code",
   "execution_count": null,
   "metadata": {},
   "outputs": [],
   "source": [
    "useless_words = set(['using', 'lambda', 's3', 'does', 'looking', 'help', 'new', 'data', 'science', 'machine', 'learning', 'use', 'need', 'engineer', 'engineering'])\n",
    "\n",
    "custom_stop_words = ENGLISH_STOP_WORDS.union(subreddit_list, useless_words)"
   ]
  },
  {
   "cell_type": "code",
   "execution_count": null,
   "metadata": {},
   "outputs": [],
   "source": [
    "# NOTE ### this does not use the X value inputted when using split...\n",
    "\n",
    "\n",
    "def make_cloud(text_column, labels_column=None, height=300, width=800, max_words=100, split=None, stopwords=None, colormap='viridis', background_color='black'):\n",
    "    '''\n",
    "    Inputs:\n",
    "    X: text input\n",
    "    height: height of each wordcloud\n",
    "    width: width of each wordcloud\n",
    "    max_words: max words for each wordcloud\n",
    "    split: if True, wordcloud for each subreddit\n",
    "    labels: must provide list of labels if split=True, to generate a wordcloud for each label\n",
    "    stopwords: usually these are the same stopwords used by the tranformer (CountVectorizer or Tfidf)\n",
    "    colormap: any choice from matplotlib gallery.  Find them with plt.cm.datad\n",
    "        'random': picks a random colormap for each cloud.\n",
    "    '''\n",
    "\n",
    "    colormaps = [m for m in plt.cm.datad if not m.endswith(\"_r\")]\n",
    "    wc = wordcloud.WordCloud(max_words=max_words,\n",
    "                             width=width,\n",
    "                             height=height,\n",
    "                             background_color=background_color,\n",
    "                             colormap=np.random.choice(\n",
    "                                 colormaps) if colormap == 'random' else colormap,\n",
    "                             stopwords=stopwords)\n",
    "    if split:\n",
    "        unique_labels = df[labels_column].unique()\n",
    "        for label in unique_labels:\n",
    "            cloud = wc.generate(\n",
    "                df[df[labels_column] == label][text_column].str.cat())\n",
    "            plt.figure(figsize=(width/100, height*len(unique_labels)/100), dpi=100)\n",
    "            plt.title(label.upper(), fontdict={'fontsize': 15})\n",
    "            plt.axis(\"off\")\n",
    "            plt.imshow(cloud.to_image(), interpolation='bilinear')\n",
    "\n",
    "    else:\n",
    "        cloud = wc.generate(df[text_column].str.cat())\n",
    "        return cloud.to_image()"
   ]
  },
  {
   "cell_type": "code",
   "execution_count": null,
   "metadata": {
    "scrolled": false
   },
   "outputs": [],
   "source": [
    "make_cloud(text_column='title', stopwords=custom_stop_words, colormap='rainbow')"
   ]
  },
  {
   "cell_type": "code",
   "execution_count": null,
   "metadata": {},
   "outputs": [],
   "source": [
    "make_cloud(text_column='title', labels_column='subreddit', split=True, stopwords=custom_stop_words, colormap='random', background_color='black')"
   ]
  },
  {
   "cell_type": "code",
   "execution_count": null,
   "metadata": {},
   "outputs": [],
   "source": [
    "img = Image.open('../images/reddit03.png')\n",
    "gray = np.array(img.convert('L'))\n",
    "mask = np.where(gray < 200, 255, 0)\n",
    "\n",
    "wc = wordcloud.WordCloud(background_color='white', \n",
    "                         max_words=500, \n",
    "                         mask=mask, \n",
    "                         colormap='Reds',\n",
    "                         contour_color='orangered',\n",
    "                         contour_width=1,\n",
    "                         stopwords=custom_stop_words)\n",
    "wc.generate(df[text_column].str.cat())\n",
    "plt.figure(figsize=(12,12))\n",
    "plt.imshow(wc, interpolation='bilinear')\n",
    "plt.axis(False);"
   ]
  },
  {
   "cell_type": "code",
   "execution_count": null,
   "metadata": {
    "scrolled": false
   },
   "outputs": [],
   "source": [
    "img2 = Image.open('../images/reddit02.jpg')\n",
    "gray2 = np.array(img2.convert('L'))\n",
    "mask2 = np.where(gray2 < 200, 255, 0)\n",
    "\n",
    "wc2 = wordcloud.WordCloud(background_color='white', \n",
    "                         max_words=1000, \n",
    "                         mask=mask2, \n",
    "                         colormap='Reds',\n",
    "                         contour_color='orangered',\n",
    "                         contour_width=1,\n",
    "                         stopwords=custom_stop_words)\n",
    "wc2.generate(df[text_column].str.cat())\n",
    "plt.figure(figsize=(8,12))\n",
    "plt.imshow(wc2, interpolation='bilinear')\n",
    "plt.axis(False)\n",
    "\n",
    "plt.show()"
   ]
  },
  {
   "cell_type": "code",
   "execution_count": null,
   "metadata": {
    "scrolled": false
   },
   "outputs": [],
   "source": [
    "mask = np.array(Image.open(\"../images/reddit06.jpg\"))\n",
    "colorcloud = wordcloud.WordCloud(stopwords=custom_stop_words,\n",
    "                                 background_color=\"white\",\n",
    "                                 mode=\"RGBA\",\n",
    "                                 max_words=1000,\n",
    "                                 mask=mask)\n",
    "colorcloud.generate(df[text_column].str.cat())\n",
    "\n",
    "image_colors = wordcloud.ImageColorGenerator(mask)\n",
    "plt.figure(figsize=[7, 7])\n",
    "\n",
    "fig, (ax1, ax2) = plt.subplots(nrows=1, ncols=2, figsize=(20, 10))\n",
    "\n",
    "ax1.imshow(mask)\n",
    "ax1.axis(False)\n",
    "\n",
    "ax2.imshow(colorcloud.recolor(color_func=image_colors),\n",
    "           interpolation=\"bilinear\")\n",
    "ax2.axis(False)\n",
    "\n",
    "plt.show();"
   ]
  },
  {
   "cell_type": "code",
   "execution_count": null,
   "metadata": {},
   "outputs": [],
   "source": []
  }
 ],
 "metadata": {
  "kernelspec": {
   "display_name": "Python 3",
   "language": "python",
   "name": "python3"
  },
  "language_info": {
   "codemirror_mode": {
    "name": "ipython",
    "version": 3
   },
   "file_extension": ".py",
   "mimetype": "text/x-python",
   "name": "python",
   "nbconvert_exporter": "python",
   "pygments_lexer": "ipython3",
   "version": "3.7.4"
  },
  "toc": {
   "base_numbering": 1,
   "nav_menu": {},
   "number_sections": true,
   "sideBar": true,
   "skip_h1_title": false,
   "title_cell": "Table of Contents",
   "title_sidebar": "Contents",
   "toc_cell": false,
   "toc_position": {},
   "toc_section_display": true,
   "toc_window_display": false
  }
 },
 "nbformat": 4,
 "nbformat_minor": 2
}
