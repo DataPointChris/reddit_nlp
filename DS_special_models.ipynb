{
 "cells": [
  {
   "cell_type": "markdown",
   "metadata": {},
   "source": [
    "# Special Model Comparison"
   ]
  },
  {
   "cell_type": "markdown",
   "metadata": {},
   "source": [
    "---"
   ]
  },
  {
   "cell_type": "code",
   "execution_count": 20,
   "metadata": {},
   "outputs": [
    {
     "name": "stdout",
     "output_type": "stream",
     "text": [
      "The autoreload extension is already loaded. To reload it, use:\n",
      "  %reload_ext autoreload\n"
     ]
    }
   ],
   "source": [
    "import pandas as pd\n",
    "import numpy as np\n",
    "from sklearn.feature_extraction.text import CountVectorizer, TfidfVectorizer, ENGLISH_STOP_WORDS\n",
    "from sklearn.pipeline import make_pipeline\n",
    "from sklearn.model_selection import train_test_split, GridSearchCV, cross_validate\n",
    "from sklearn.neural_network import MLPClassifier\n",
    "from sklearn.metrics import confusion_matrix, multilabel_confusion_matrix\n",
    "from sklearn.metrics import roc_auc_score, roc_curve, classification_report\n",
    "from sklearn.ensemble import RandomForestClassifier, AdaBoostClassifier\n",
    "from sklearn.linear_model import LogisticRegression\n",
    "import time\n",
    "import datetime\n",
    "import seaborn as sns\n",
    "import matplotlib.pyplot as plt\n",
    "%matplotlib inline\n",
    "\n",
    "from xgboost import XGBClassifier\n",
    "\n",
    "%load_ext autoreload\n",
    "%autoreload 2"
   ]
  },
  {
   "cell_type": "code",
   "execution_count": 21,
   "metadata": {},
   "outputs": [],
   "source": [
    "from util import databases\n",
    "from util import dataloader\n",
    "from util import grid_models\n",
    "from util.reddit_functions import Labeler\n",
    "from util.reddit_functions import plot_confusion_matrix\n",
    "from util.grid_models import custom_stop_words"
   ]
  },
  {
   "cell_type": "code",
   "execution_count": 22,
   "metadata": {},
   "outputs": [],
   "source": [
    "# subreddit_list = ['css', 'html', 'javascript', 'php', 'perl', 'java', 'datascience', 'machinelearning', 'etl', 'python', 'dataengineering']"
   ]
  },
  {
   "cell_type": "code",
   "execution_count": 23,
   "metadata": {},
   "outputs": [],
   "source": [
    "subreddit_list = ['datascience','machinelearning','dataengineering','python','aws']"
   ]
  },
  {
   "cell_type": "code",
   "execution_count": 24,
   "metadata": {
    "scrolled": false
   },
   "outputs": [
    {
     "name": "stdout",
     "output_type": "stream",
     "text": [
      "Connection to SQLite DB successful\n"
     ]
    }
   ],
   "source": [
    "df = dataloader.data_selector(subreddit_list, 'sqlite')"
   ]
  },
  {
   "cell_type": "code",
   "execution_count": 25,
   "metadata": {},
   "outputs": [
    {
     "data": {
      "text/plain": [
       "10298"
      ]
     },
     "execution_count": 25,
     "metadata": {},
     "output_type": "execute_result"
    }
   ],
   "source": [
    "len(df)"
   ]
  },
  {
   "cell_type": "code",
   "execution_count": 7,
   "metadata": {
    "scrolled": true
   },
   "outputs": [
    {
     "data": {
      "text/html": [
       "<div>\n",
       "<style scoped>\n",
       "    .dataframe tbody tr th:only-of-type {\n",
       "        vertical-align: middle;\n",
       "    }\n",
       "\n",
       "    .dataframe tbody tr th {\n",
       "        vertical-align: top;\n",
       "    }\n",
       "\n",
       "    .dataframe thead th {\n",
       "        text-align: right;\n",
       "    }\n",
       "</style>\n",
       "<table border=\"1\" class=\"dataframe\">\n",
       "  <thead>\n",
       "    <tr style=\"text-align: right;\">\n",
       "      <th></th>\n",
       "      <th>title</th>\n",
       "      <th>subreddit</th>\n",
       "      <th>date</th>\n",
       "    </tr>\n",
       "  </thead>\n",
       "  <tbody>\n",
       "    <tr>\n",
       "      <th>33054</th>\n",
       "      <td>Any good alternative to SAS DQMATCH?</td>\n",
       "      <td>dataengineering</td>\n",
       "      <td>2020-04-22</td>\n",
       "    </tr>\n",
       "    <tr>\n",
       "      <th>74298</th>\n",
       "      <td>convert text to handwriting (MyHandWriting-ver...</td>\n",
       "      <td>python</td>\n",
       "      <td>2020-05-03</td>\n",
       "    </tr>\n",
       "    <tr>\n",
       "      <th>55059</th>\n",
       "      <td>[P][D] My Talk on Bias in AI/ML, Using a Keras...</td>\n",
       "      <td>machinelearning</td>\n",
       "      <td>2020-04-28</td>\n",
       "    </tr>\n",
       "    <tr>\n",
       "      <th>71902</th>\n",
       "      <td>DNS Health Check for custom application says o...</td>\n",
       "      <td>aws</td>\n",
       "      <td>2020-05-03</td>\n",
       "    </tr>\n",
       "    <tr>\n",
       "      <th>68771</th>\n",
       "      <td>[D] Using Unrolled GANs in Practice</td>\n",
       "      <td>machinelearning</td>\n",
       "      <td>2020-05-02</td>\n",
       "    </tr>\n",
       "    <tr>\n",
       "      <th>79144</th>\n",
       "      <td>An interview with a DataDog engineer about how...</td>\n",
       "      <td>dataengineering</td>\n",
       "      <td>2020-05-07</td>\n",
       "    </tr>\n",
       "    <tr>\n",
       "      <th>78664</th>\n",
       "      <td>Dell Technologies and Ververica: Analyzing Con...</td>\n",
       "      <td>dataengineering</td>\n",
       "      <td>2020-05-07</td>\n",
       "    </tr>\n",
       "    <tr>\n",
       "      <th>54078</th>\n",
       "      <td>running a regression in Spark: R vs. Scala vs....</td>\n",
       "      <td>datascience</td>\n",
       "      <td>2020-04-28</td>\n",
       "    </tr>\n",
       "    <tr>\n",
       "      <th>31081</th>\n",
       "      <td>[D] Director of customer analytics says: \"I th...</td>\n",
       "      <td>machinelearning</td>\n",
       "      <td>2020-04-22</td>\n",
       "    </tr>\n",
       "    <tr>\n",
       "      <th>61378</th>\n",
       "      <td>What are some good conferences you recommend f...</td>\n",
       "      <td>dataengineering</td>\n",
       "      <td>2020-04-29</td>\n",
       "    </tr>\n",
       "  </tbody>\n",
       "</table>\n",
       "</div>"
      ],
      "text/plain": [
       "                                                   title        subreddit  \\\n",
       "33054               Any good alternative to SAS DQMATCH?  dataengineering   \n",
       "74298  convert text to handwriting (MyHandWriting-ver...           python   \n",
       "55059  [P][D] My Talk on Bias in AI/ML, Using a Keras...  machinelearning   \n",
       "71902  DNS Health Check for custom application says o...              aws   \n",
       "68771                [D] Using Unrolled GANs in Practice  machinelearning   \n",
       "79144  An interview with a DataDog engineer about how...  dataengineering   \n",
       "78664  Dell Technologies and Ververica: Analyzing Con...  dataengineering   \n",
       "54078  running a regression in Spark: R vs. Scala vs....      datascience   \n",
       "31081  [D] Director of customer analytics says: \"I th...  machinelearning   \n",
       "61378  What are some good conferences you recommend f...  dataengineering   \n",
       "\n",
       "             date  \n",
       "33054  2020-04-22  \n",
       "74298  2020-05-03  \n",
       "55059  2020-04-28  \n",
       "71902  2020-05-03  \n",
       "68771  2020-05-02  \n",
       "79144  2020-05-07  \n",
       "78664  2020-05-07  \n",
       "54078  2020-04-28  \n",
       "31081  2020-04-22  \n",
       "61378  2020-04-29  "
      ]
     },
     "execution_count": 7,
     "metadata": {},
     "output_type": "execute_result"
    }
   ],
   "source": [
    "df.sample(10)"
   ]
  },
  {
   "cell_type": "code",
   "execution_count": null,
   "metadata": {},
   "outputs": [],
   "source": [
    "X = df['title']\n",
    "y = df['subreddit']"
   ]
  },
  {
   "cell_type": "code",
   "execution_count": null,
   "metadata": {},
   "outputs": [],
   "source": [
    "labeler = Labeler()\n",
    "labeler.fit(y)\n",
    "y = labeler.transform(y)"
   ]
  },
  {
   "cell_type": "code",
   "execution_count": null,
   "metadata": {},
   "outputs": [],
   "source": [
    "X_train, X_test, y_train, y_test = train_test_split(X, y, random_state=7)"
   ]
  },
  {
   "cell_type": "code",
   "execution_count": null,
   "metadata": {},
   "outputs": [],
   "source": [
    "tfidfvectorizer = {\n",
    "    'preprocessor': TfidfVectorizer(stop_words=custom_stop_words),\n",
    "    'pipe_params': {\n",
    "        \"tfidfvectorizer__ngram_range\": [(1, 2)],\n",
    "#         \"prep__max_df\": [.7, .8, .9],\n",
    "        \"tfidfvectorizer__use_idf\": [True],\n",
    "        \"tfidfvectorizer__norm\": [\"l2\"]\n",
    "    }\n",
    "}"
   ]
  },
  {
   "cell_type": "code",
   "execution_count": null,
   "metadata": {},
   "outputs": [],
   "source": [
    "estimators = {\n",
    "    'logisticregression': {\n",
    "        'name': 'Logistic Regression',\n",
    "        'estimator': LogisticRegression(max_iter=1000),\n",
    "        'pipe_params': {\n",
    "            \"logisticregression__C\": [5]•\n",
    "        }\n",
    "    },\n",
    "    'mlp': {\n",
    "        'name': 'Multi Layer Percetpron Classifier',\n",
    "        'estimator': MLPClassifier(),\n",
    "        'pipe_params': {\n",
    "            \"clf__hidden_layer_sizes\": [50, 100, 200]\n",
    "        }\n",
    "    },\n",
    "\n",
    "    'xgbclassifier': {\n",
    "        'name': 'XGBoost Classifier',\n",
    "        'estimator': XGBClassifier(),\n",
    "        'pipe_params': {\n",
    "            \"clf__hidden_layer_sizes\": [10, 25, 50],\n",
    "            \"clf__n_estimators\": [50, 100, 200],\n",
    "            \"clf__max_depth\": [5, 10, 20]\n",
    "        }\n",
    "    }\n",
    "}"
   ]
  },
  {
   "cell_type": "code",
   "execution_count": null,
   "metadata": {},
   "outputs": [],
   "source": [
    "def score_model(model):\n",
    "    \n",
    "    print(f'Train Score: {model.score(X_train, y_train)}')\n",
    "    print(f'Test Score: {model.score(X_test, y_test)}')\n",
    "    print(f'AUC Score: {roc_auc_score(y_test, y_proba, multi_class=\"ovr\")}')\n",
    "    print(classification_report(y_test, y_pred, digits=3))"
   ]
  },
  {
   "cell_type": "code",
   "execution_count": null,
   "metadata": {},
   "outputs": [],
   "source": [
    "fitted_models = dict()"
   ]
  },
  {
   "cell_type": "code",
   "execution_count": null,
   "metadata": {},
   "outputs": [],
   "source": [
    "text = TextClassifier()"
   ]
  },
  {
   "cell_type": "code",
   "execution_count": null,
   "metadata": {
    "scrolled": false
   },
   "outputs": [],
   "source": [
    "for estimator in estimators.values():\n",
    "\n",
    "    model = text.build_and_train_model(\n",
    "        text=X_train,\n",
    "        labels=y_train,\n",
    "        preprocessor=tfidfvectorizer,\n",
    "        estimator=estimator,\n",
    "        verbose=5\n",
    "    )\n",
    "    y_pred = model.predict(X_test)\n",
    "    y_proba = model.predict_proba(X_test)\n",
    "    score_model(model)\n",
    "    plot_confusion_matrix(model, y_true=y_test,\n",
    "                          y_pred=y_pred, classes=labeler.classes_)\n",
    "    fitted_models[estimator.get('name')] = model"
   ]
  },
  {
   "cell_type": "code",
   "execution_count": null,
   "metadata": {
    "scrolled": true
   },
   "outputs": [],
   "source": [
    "fitted_models"
   ]
  },
  {
   "cell_type": "code",
   "execution_count": null,
   "metadata": {},
   "outputs": [],
   "source": []
  }
 ],
 "metadata": {
  "kernelspec": {
   "display_name": "Python 3",
   "language": "python",
   "name": "python3"
  },
  "language_info": {
   "codemirror_mode": {
    "name": "ipython",
    "version": 3
   },
   "file_extension": ".py",
   "mimetype": "text/x-python",
   "name": "python",
   "nbconvert_exporter": "python",
   "pygments_lexer": "ipython3",
   "version": "3.7.4"
  },
  "toc": {
   "base_numbering": 1,
   "nav_menu": {},
   "number_sections": true,
   "sideBar": true,
   "skip_h1_title": false,
   "title_cell": "Table of Contents",
   "title_sidebar": "Contents",
   "toc_cell": false,
   "toc_position": {},
   "toc_section_display": true,
   "toc_window_display": false
  },
  "varInspector": {
   "cols": {
    "lenName": 16,
    "lenType": 16,
    "lenVar": 40
   },
   "kernels_config": {
    "python": {
     "delete_cmd_postfix": "",
     "delete_cmd_prefix": "del ",
     "library": "var_list.py",
     "varRefreshCmd": "print(var_dic_list())"
    },
    "r": {
     "delete_cmd_postfix": ") ",
     "delete_cmd_prefix": "rm(",
     "library": "var_list.r",
     "varRefreshCmd": "cat(var_dic_list()) "
    }
   },
   "types_to_exclude": [
    "module",
    "function",
    "builtin_function_or_method",
    "instance",
    "_Feature"
   ],
   "window_display": false
  }
 },
 "nbformat": 4,
 "nbformat_minor": 4
}
