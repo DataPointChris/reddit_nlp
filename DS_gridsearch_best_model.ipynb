{
 "cells": [
  {
   "cell_type": "markdown",
   "metadata": {},
   "source": [
    "# Data Science Workflow\n",
    "## Find the Best Model\n",
    "\n",
    "This notebook shows how to use some of the functions located in `reddit_functions` to compare the performance of different models on the data.\n",
    "\n",
    "A second workflow is included to take the parameters of the best model and create a new model and fit it on the entire dataset and see the improvement."
   ]
  },
  {
   "cell_type": "code",
   "execution_count": 1,
   "metadata": {
    "scrolled": true
   },
   "outputs": [],
   "source": [
    "from pprint import pprint\n",
    "import pandas as pd\n",
    "import numpy as np\n",
    "from sklearn.feature_extraction.text import CountVectorizer, TfidfVectorizer, ENGLISH_STOP_WORDS\n",
    "from sklearn.pipeline import Pipeline\n",
    "from sklearn.model_selection import train_test_split, GridSearchCV\n",
    "from sklearn.model_selection import cross_val_score, RandomizedSearchCV\n",
    "import seaborn as sns\n",
    "import matplotlib.pyplot as plt\n",
    "import datetime\n",
    "%matplotlib inline\n",
    "%load_ext autoreload\n",
    "%autoreload 2"
   ]
  },
  {
   "cell_type": "code",
   "execution_count": 2,
   "metadata": {
    "scrolled": true
   },
   "outputs": [],
   "source": [
    "from util import databases\n",
    "from util import dataloader\n",
    "from util import grid_models\n",
    "from util.reddit_functions import Reddit, Labeler"
   ]
  },
  {
   "cell_type": "code",
   "execution_count": 3,
   "metadata": {},
   "outputs": [
    {
     "name": "stdout",
     "output_type": "stream",
     "text": [
      "/Users/chris/github/reddit_nlp/util\r\n"
     ]
    }
   ],
   "source": [
    "!pwd"
   ]
  },
  {
   "cell_type": "code",
   "execution_count": 4,
   "metadata": {},
   "outputs": [],
   "source": [
    "subreddit_list = ['css', 'html', 'machinelearning', 'python']"
   ]
  },
  {
   "cell_type": "code",
   "execution_count": 5,
   "metadata": {
    "scrolled": false
   },
   "outputs": [
    {
     "name": "stdout",
     "output_type": "stream",
     "text": [
      "Connection to SQLite DB successful\n"
     ]
    }
   ],
   "source": [
    "df = dataloader.data_selector(subreddit_list, 'sqlite')"
   ]
  },
  {
   "cell_type": "code",
   "execution_count": 6,
   "metadata": {
    "scrolled": true
   },
   "outputs": [
    {
     "data": {
      "text/html": [
       "<div>\n",
       "<style scoped>\n",
       "    .dataframe tbody tr th:only-of-type {\n",
       "        vertical-align: middle;\n",
       "    }\n",
       "\n",
       "    .dataframe tbody tr th {\n",
       "        vertical-align: top;\n",
       "    }\n",
       "\n",
       "    .dataframe thead th {\n",
       "        text-align: right;\n",
       "    }\n",
       "</style>\n",
       "<table border=\"1\" class=\"dataframe\">\n",
       "  <thead>\n",
       "    <tr style=\"text-align: right;\">\n",
       "      <th></th>\n",
       "      <th>title</th>\n",
       "      <th>subreddit</th>\n",
       "      <th>date</th>\n",
       "    </tr>\n",
       "  </thead>\n",
       "  <tbody>\n",
       "    <tr>\n",
       "      <th>11494</th>\n",
       "      <td>Why does the span element have a vertical offs...</td>\n",
       "      <td>css</td>\n",
       "      <td>2020-04-14</td>\n",
       "    </tr>\n",
       "    <tr>\n",
       "      <th>22526</th>\n",
       "      <td>Python Scraping Question</td>\n",
       "      <td>python</td>\n",
       "      <td>2020-04-21</td>\n",
       "    </tr>\n",
       "    <tr>\n",
       "      <th>32497</th>\n",
       "      <td>[D] IJCAI 20 notifications</td>\n",
       "      <td>machinelearning</td>\n",
       "      <td>2020-04-24</td>\n",
       "    </tr>\n",
       "    <tr>\n",
       "      <th>26053</th>\n",
       "      <td>I made a Twitter market watch bot</td>\n",
       "      <td>python</td>\n",
       "      <td>2020-04-22</td>\n",
       "    </tr>\n",
       "    <tr>\n",
       "      <th>33995</th>\n",
       "      <td>Sniffing for File Types On Local Machine?</td>\n",
       "      <td>python</td>\n",
       "      <td>2020-04-24</td>\n",
       "    </tr>\n",
       "    <tr>\n",
       "      <th>430</th>\n",
       "      <td>How can I recreate this?</td>\n",
       "      <td>css</td>\n",
       "      <td>2020-03-29</td>\n",
       "    </tr>\n",
       "    <tr>\n",
       "      <th>12919</th>\n",
       "      <td>Adding content</td>\n",
       "      <td>html</td>\n",
       "      <td>2020-04-14</td>\n",
       "    </tr>\n",
       "    <tr>\n",
       "      <th>12369</th>\n",
       "      <td>Developed a pure CSS count up timer using HTML...</td>\n",
       "      <td>html</td>\n",
       "      <td>2020-04-14</td>\n",
       "    </tr>\n",
       "    <tr>\n",
       "      <th>34778</th>\n",
       "      <td>Why side nav works only with sections?</td>\n",
       "      <td>css</td>\n",
       "      <td>2020-04-25</td>\n",
       "    </tr>\n",
       "    <tr>\n",
       "      <th>19783</th>\n",
       "      <td>Review my small Book chapter on CSS</td>\n",
       "      <td>css</td>\n",
       "      <td>2020-04-21</td>\n",
       "    </tr>\n",
       "  </tbody>\n",
       "</table>\n",
       "</div>"
      ],
      "text/plain": [
       "                                                   title        subreddit  \\\n",
       "11494  Why does the span element have a vertical offs...              css   \n",
       "22526                           Python Scraping Question           python   \n",
       "32497                         [D] IJCAI 20 notifications  machinelearning   \n",
       "26053                  I made a Twitter market watch bot           python   \n",
       "33995          Sniffing for File Types On Local Machine?           python   \n",
       "430                             How can I recreate this?              css   \n",
       "12919                                     Adding content             html   \n",
       "12369  Developed a pure CSS count up timer using HTML...             html   \n",
       "34778             Why side nav works only with sections?              css   \n",
       "19783                Review my small Book chapter on CSS              css   \n",
       "\n",
       "             date  \n",
       "11494  2020-04-14  \n",
       "22526  2020-04-21  \n",
       "32497  2020-04-24  \n",
       "26053  2020-04-22  \n",
       "33995  2020-04-24  \n",
       "430    2020-03-29  \n",
       "12919  2020-04-14  \n",
       "12369  2020-04-14  \n",
       "34778  2020-04-25  \n",
       "19783  2020-04-21  "
      ]
     },
     "execution_count": 6,
     "metadata": {},
     "output_type": "execute_result"
    }
   ],
   "source": [
    "df.sample(10)"
   ]
  },
  {
   "cell_type": "code",
   "execution_count": 7,
   "metadata": {},
   "outputs": [],
   "source": [
    "X = df['title']\n",
    "y = df['subreddit']"
   ]
  },
  {
   "cell_type": "code",
   "execution_count": 8,
   "metadata": {},
   "outputs": [],
   "source": [
    "labeler = Labeler()\n",
    "labeler.fit(y)\n",
    "y = labeler.transform(y)"
   ]
  },
  {
   "cell_type": "code",
   "execution_count": 9,
   "metadata": {},
   "outputs": [],
   "source": [
    "X_train, X_test, y_train, y_test = train_test_split(X, y, random_state=7)"
   ]
  },
  {
   "cell_type": "code",
   "execution_count": 10,
   "metadata": {},
   "outputs": [],
   "source": [
    "model = Reddit()"
   ]
  },
  {
   "cell_type": "code",
   "execution_count": 11,
   "metadata": {},
   "outputs": [],
   "source": [
    "preprocessors = grid_models.preprocessors\n",
    "estimators = grid_models.estimators"
   ]
  },
  {
   "cell_type": "markdown",
   "metadata": {},
   "source": [
    "### Compare All Models"
   ]
  },
  {
   "cell_type": "code",
   "execution_count": 12,
   "metadata": {
    "scrolled": false
   },
   "outputs": [
    {
     "name": "stderr",
     "output_type": "stream",
     "text": [
      "\r",
      "  0%|          | 0/3 [00:00<?, ?it/s]"
     ]
    },
    {
     "name": "stdout",
     "output_type": "stream",
     "text": [
      "Fitting model with CountVectorizer and Logistic Regression\n",
      "Fitting 3 folds for each of 16 candidates, totalling 48 fits\n"
     ]
    },
    {
     "name": "stderr",
     "output_type": "stream",
     "text": [
      "[Parallel(n_jobs=-1)]: Using backend LokyBackend with 12 concurrent workers.\n",
      "[Parallel(n_jobs=-1)]: Done  48 out of  48 | elapsed:   11.3s finished\n"
     ]
    },
    {
     "name": "stdout",
     "output_type": "stream",
     "text": [
      "Fitting model with TfidVectorizer and Logistic Regression\n",
      "Fitting 3 folds for each of 32 candidates, totalling 96 fits\n"
     ]
    },
    {
     "name": "stderr",
     "output_type": "stream",
     "text": [
      "[Parallel(n_jobs=-1)]: Using backend LokyBackend with 12 concurrent workers.\n",
      "[Parallel(n_jobs=-1)]: Done  26 tasks      | elapsed:    4.0s\n",
      "[Parallel(n_jobs=-1)]: Done  96 out of  96 | elapsed:   17.4s finished\n",
      " 33%|███▎      | 1/3 [00:34<01:08, 34.45s/it][Parallel(n_jobs=-1)]: Using backend LokyBackend with 12 concurrent workers.\n"
     ]
    },
    {
     "name": "stdout",
     "output_type": "stream",
     "text": [
      "Fitting model with CountVectorizer and Random Forest\n",
      "Fitting 3 folds for each of 12 candidates, totalling 36 fits\n"
     ]
    },
    {
     "name": "stderr",
     "output_type": "stream",
     "text": [
      "/Users/chris/opt/anaconda3/lib/python3.7/site-packages/joblib/externals/loky/process_executor.py:706: UserWarning: A worker stopped while some jobs were given to the executor. This can be caused by a too short worker timeout or by a memory leak.\n",
      "  \"timeout or by a memory leak.\", UserWarning\n",
      "[Parallel(n_jobs=-1)]: Done  36 out of  36 | elapsed:   42.6s finished\n"
     ]
    },
    {
     "name": "stdout",
     "output_type": "stream",
     "text": [
      "Fitting model with TfidVectorizer and Random Forest\n",
      "Fitting 3 folds for each of 24 candidates, totalling 72 fits\n"
     ]
    },
    {
     "name": "stderr",
     "output_type": "stream",
     "text": [
      "[Parallel(n_jobs=-1)]: Using backend LokyBackend with 12 concurrent workers.\n",
      "/Users/chris/opt/anaconda3/lib/python3.7/site-packages/joblib/externals/loky/process_executor.py:706: UserWarning: A worker stopped while some jobs were given to the executor. This can be caused by a too short worker timeout or by a memory leak.\n",
      "  \"timeout or by a memory leak.\", UserWarning\n",
      "[Parallel(n_jobs=-1)]: Done  26 tasks      | elapsed:   41.5s\n",
      "[Parallel(n_jobs=-1)]: Done  72 out of  72 | elapsed:  1.5min finished\n",
      " 67%|██████▋   | 2/3 [03:19<01:13, 73.55s/it]"
     ]
    },
    {
     "name": "stdout",
     "output_type": "stream",
     "text": [
      "Fitting model with CountVectorizer and Passive Agressive Classifier\n",
      "Fitting 3 folds for each of 1 candidates, totalling 3 fits\n"
     ]
    },
    {
     "name": "stderr",
     "output_type": "stream",
     "text": [
      "[Parallel(n_jobs=-1)]: Using backend LokyBackend with 12 concurrent workers.\n",
      "[Parallel(n_jobs=-1)]: Done   3 out of   3 | elapsed:    0.6s finished\n"
     ]
    },
    {
     "name": "stdout",
     "output_type": "stream",
     "text": [
      "Fitting model with TfidVectorizer and Passive Agressive Classifier\n",
      "Fitting 3 folds for each of 2 candidates, totalling 6 fits\n"
     ]
    },
    {
     "name": "stderr",
     "output_type": "stream",
     "text": [
      "[Parallel(n_jobs=-1)]: Using backend LokyBackend with 12 concurrent workers.\n",
      "[Parallel(n_jobs=-1)]: Done   4 out of   6 | elapsed:    0.7s remaining:    0.4s\n",
      "[Parallel(n_jobs=-1)]: Done   6 out of   6 | elapsed:    1.2s finished\n",
      "100%|██████████| 3/3 [03:23<00:00, 67.67s/it]\n"
     ]
    }
   ],
   "source": [
    "compare_df = model.compare_models(X_train, X_test, y_train, y_test, cv=3, verbose=1)"
   ]
  },
  {
   "cell_type": "code",
   "execution_count": 13,
   "metadata": {
    "scrolled": false
   },
   "outputs": [
    {
     "data": {
      "text/html": [
       "<div>\n",
       "<style scoped>\n",
       "    .dataframe tbody tr th:only-of-type {\n",
       "        vertical-align: middle;\n",
       "    }\n",
       "\n",
       "    .dataframe tbody tr th {\n",
       "        vertical-align: top;\n",
       "    }\n",
       "\n",
       "    .dataframe thead th {\n",
       "        text-align: right;\n",
       "    }\n",
       "</style>\n",
       "<table border=\"1\" class=\"dataframe\">\n",
       "  <thead>\n",
       "    <tr style=\"text-align: right;\">\n",
       "      <th></th>\n",
       "      <th>date</th>\n",
       "      <th>preprocessor</th>\n",
       "      <th>estimator</th>\n",
       "      <th>best_params</th>\n",
       "      <th>best_train_score</th>\n",
       "      <th>best_test_score</th>\n",
       "      <th>variance</th>\n",
       "      <th>prep_code</th>\n",
       "      <th>est_code</th>\n",
       "      <th>subreddits</th>\n",
       "      <th>fit_and_score_time</th>\n",
       "    </tr>\n",
       "  </thead>\n",
       "  <tbody>\n",
       "    <tr>\n",
       "      <th>4</th>\n",
       "      <td>2020-04-25 22:38:35.548883</td>\n",
       "      <td>CountVectorizer</td>\n",
       "      <td>Passive Agressive Classifier</td>\n",
       "      <td>{'count_vec__max_features': 5000, 'count_vec__...</td>\n",
       "      <td>0.983799</td>\n",
       "      <td>0.972184</td>\n",
       "      <td>1.180568</td>\n",
       "      <td>count_vec</td>\n",
       "      <td>passive</td>\n",
       "      <td>na</td>\n",
       "      <td>1.578906</td>\n",
       "    </tr>\n",
       "    <tr>\n",
       "      <th>5</th>\n",
       "      <td>2020-04-25 22:38:37.741098</td>\n",
       "      <td>TfidVectorizer</td>\n",
       "      <td>Passive Agressive Classifier</td>\n",
       "      <td>{'passive__C': 1.0, 'passive__average': False,...</td>\n",
       "      <td>0.984009</td>\n",
       "      <td>0.972079</td>\n",
       "      <td>1.212319</td>\n",
       "      <td>tfidf</td>\n",
       "      <td>passive</td>\n",
       "      <td>na</td>\n",
       "      <td>2.188445</td>\n",
       "    </tr>\n",
       "    <tr>\n",
       "      <th>0</th>\n",
       "      <td>2020-04-25 22:35:28.729328</td>\n",
       "      <td>CountVectorizer</td>\n",
       "      <td>Logistic Regression</td>\n",
       "      <td>{'count_vec__max_features': 5000, 'count_vec__...</td>\n",
       "      <td>0.980929</td>\n",
       "      <td>0.970190</td>\n",
       "      <td>1.094819</td>\n",
       "      <td>count_vec</td>\n",
       "      <td>logreg</td>\n",
       "      <td>na</td>\n",
       "      <td>13.994590</td>\n",
       "    </tr>\n",
       "    <tr>\n",
       "      <th>1</th>\n",
       "      <td>2020-04-25 22:35:49.185874</td>\n",
       "      <td>TfidVectorizer</td>\n",
       "      <td>Logistic Regression</td>\n",
       "      <td>{'logreg__C': 3, 'logreg__max_iter': 1000, 'lo...</td>\n",
       "      <td>0.971936</td>\n",
       "      <td>0.959694</td>\n",
       "      <td>1.259645</td>\n",
       "      <td>tfidf</td>\n",
       "      <td>logreg</td>\n",
       "      <td>na</td>\n",
       "      <td>20.452396</td>\n",
       "    </tr>\n",
       "    <tr>\n",
       "      <th>2</th>\n",
       "      <td>2020-04-25 22:36:50.849978</td>\n",
       "      <td>CountVectorizer</td>\n",
       "      <td>Random Forest</td>\n",
       "      <td>{'count_vec__max_features': 5000, 'count_vec__...</td>\n",
       "      <td>0.928826</td>\n",
       "      <td>0.915188</td>\n",
       "      <td>1.468300</td>\n",
       "      <td>count_vec</td>\n",
       "      <td>randomforest</td>\n",
       "      <td>na</td>\n",
       "      <td>61.659652</td>\n",
       "    </tr>\n",
       "    <tr>\n",
       "      <th>3</th>\n",
       "      <td>2020-04-25 22:38:33.965580</td>\n",
       "      <td>TfidVectorizer</td>\n",
       "      <td>Random Forest</td>\n",
       "      <td>{'randomforest__max_depth': 200, 'randomforest...</td>\n",
       "      <td>0.931276</td>\n",
       "      <td>0.914349</td>\n",
       "      <td>1.817626</td>\n",
       "      <td>tfidf</td>\n",
       "      <td>randomforest</td>\n",
       "      <td>na</td>\n",
       "      <td>103.111789</td>\n",
       "    </tr>\n",
       "  </tbody>\n",
       "</table>\n",
       "</div>"
      ],
      "text/plain": [
       "                        date     preprocessor                     estimator  \\\n",
       "4 2020-04-25 22:38:35.548883  CountVectorizer  Passive Agressive Classifier   \n",
       "5 2020-04-25 22:38:37.741098   TfidVectorizer  Passive Agressive Classifier   \n",
       "0 2020-04-25 22:35:28.729328  CountVectorizer           Logistic Regression   \n",
       "1 2020-04-25 22:35:49.185874   TfidVectorizer           Logistic Regression   \n",
       "2 2020-04-25 22:36:50.849978  CountVectorizer                 Random Forest   \n",
       "3 2020-04-25 22:38:33.965580   TfidVectorizer                 Random Forest   \n",
       "\n",
       "                                         best_params  best_train_score  \\\n",
       "4  {'count_vec__max_features': 5000, 'count_vec__...          0.983799   \n",
       "5  {'passive__C': 1.0, 'passive__average': False,...          0.984009   \n",
       "0  {'count_vec__max_features': 5000, 'count_vec__...          0.980929   \n",
       "1  {'logreg__C': 3, 'logreg__max_iter': 1000, 'lo...          0.971936   \n",
       "2  {'count_vec__max_features': 5000, 'count_vec__...          0.928826   \n",
       "3  {'randomforest__max_depth': 200, 'randomforest...          0.931276   \n",
       "\n",
       "   best_test_score  variance  prep_code      est_code subreddits  \\\n",
       "4         0.972184  1.180568  count_vec       passive         na   \n",
       "5         0.972079  1.212319      tfidf       passive         na   \n",
       "0         0.970190  1.094819  count_vec        logreg         na   \n",
       "1         0.959694  1.259645      tfidf        logreg         na   \n",
       "2         0.915188  1.468300  count_vec  randomforest         na   \n",
       "3         0.914349  1.817626      tfidf  randomforest         na   \n",
       "\n",
       "   fit_and_score_time  \n",
       "4            1.578906  \n",
       "5            2.188445  \n",
       "0           13.994590  \n",
       "1           20.452396  \n",
       "2           61.659652  \n",
       "3          103.111789  "
      ]
     },
     "execution_count": 13,
     "metadata": {},
     "output_type": "execute_result"
    }
   ],
   "source": [
    "compare_df.sort_values(by='best_test_score', ascending=False)"
   ]
  },
  {
   "cell_type": "code",
   "execution_count": 14,
   "metadata": {},
   "outputs": [
    {
     "name": "stdout",
     "output_type": "stream",
     "text": [
      "/Users/chris/github/reddit_nlp/util\r\n"
     ]
    }
   ],
   "source": [
    "!pwd"
   ]
  },
  {
   "cell_type": "code",
   "execution_count": 15,
   "metadata": {
    "scrolled": true
   },
   "outputs": [],
   "source": [
    "date = str(datetime.datetime.now().strftime('%Y-%m-%d_%H:%M:%S'))\n",
    "compare_df.to_csv(f'../data/compare_df/{date}')"
   ]
  },
  {
   "cell_type": "code",
   "execution_count": null,
   "metadata": {
    "scrolled": true
   },
   "outputs": [],
   "source": [
    "# [pprint(params) for params in compare_df.sort_values(by='best_test_score', ascending=False)['best_params']]"
   ]
  },
  {
   "cell_type": "code",
   "execution_count": null,
   "metadata": {
    "scrolled": true
   },
   "outputs": [],
   "source": [
    "best_model = compare_df.sort_values(by='best_test_score', ascending=False).iloc[0, :].to_dict()\n",
    "best_model"
   ]
  },
  {
   "cell_type": "markdown",
   "metadata": {},
   "source": [
    "## Make a new model with the best params from the search"
   ]
  },
  {
   "cell_type": "code",
   "execution_count": null,
   "metadata": {},
   "outputs": [],
   "source": [
    "best_pipe = Pipeline([\n",
    "    (best_model['prep_code'], preprocessors[best_model['prep_code']]['processor']),\n",
    "    (best_model['est_code'], estimators[best_model['est_code']]['estimator'])\n",
    "])\n",
    "best_pipe.set_params(**best_model['best_params'])\n",
    "# fit on entire dataset\n",
    "best_pipe.fit(X, y)\n",
    "best_pipe_score = best_pipe.score(X, y)\n",
    "best_pipe_score"
   ]
  },
  {
   "cell_type": "code",
   "execution_count": null,
   "metadata": {},
   "outputs": [],
   "source": [
    "cross_score = cross_val_score(best_pipe, X, y)\n",
    "print(cross_score, cross_score.mean())\n"
   ]
  },
  {
   "cell_type": "markdown",
   "metadata": {},
   "source": [
    "### Model Improvement"
   ]
  },
  {
   "cell_type": "code",
   "execution_count": null,
   "metadata": {},
   "outputs": [],
   "source": [
    "# baseline\n",
    "y.value_counts(normalize=True)"
   ]
  },
  {
   "cell_type": "code",
   "execution_count": null,
   "metadata": {},
   "outputs": [],
   "source": [
    "# how much improvement over baseline\n",
    "best_pipe_score - y.value_counts(normalize=True)[0]"
   ]
  },
  {
   "cell_type": "code",
   "execution_count": null,
   "metadata": {},
   "outputs": [],
   "source": [
    "# how much difference from the best worst model to the best best model\n",
    "best_pipe_score - min(compare_df['best_test_score'])"
   ]
  },
  {
   "cell_type": "code",
   "execution_count": null,
   "metadata": {},
   "outputs": [],
   "source": [
    "# how much improvement from retraining on entire dataset\n",
    "best_pipe_score - best_model['best_test_score']"
   ]
  },
  {
   "cell_type": "code",
   "execution_count": null,
   "metadata": {},
   "outputs": [],
   "source": []
  }
 ],
 "metadata": {
  "kernelspec": {
   "display_name": "Python 3",
   "language": "python",
   "name": "python3"
  },
  "language_info": {
   "codemirror_mode": {
    "name": "ipython",
    "version": 3
   },
   "file_extension": ".py",
   "mimetype": "text/x-python",
   "name": "python",
   "nbconvert_exporter": "python",
   "pygments_lexer": "ipython3",
   "version": "3.7.4"
  },
  "toc": {
   "base_numbering": 1,
   "nav_menu": {},
   "number_sections": true,
   "sideBar": true,
   "skip_h1_title": false,
   "title_cell": "Table of Contents",
   "title_sidebar": "Contents",
   "toc_cell": false,
   "toc_position": {},
   "toc_section_display": true,
   "toc_window_display": false
  },
  "varInspector": {
   "cols": {
    "lenName": 16,
    "lenType": 16,
    "lenVar": 40
   },
   "kernels_config": {
    "python": {
     "delete_cmd_postfix": "",
     "delete_cmd_prefix": "del ",
     "library": "var_list.py",
     "varRefreshCmd": "print(var_dic_list())"
    },
    "r": {
     "delete_cmd_postfix": ") ",
     "delete_cmd_prefix": "rm(",
     "library": "var_list.r",
     "varRefreshCmd": "cat(var_dic_list()) "
    }
   },
   "types_to_exclude": [
    "module",
    "function",
    "builtin_function_or_method",
    "instance",
    "_Feature"
   ],
   "window_display": false
  }
 },
 "nbformat": 4,
 "nbformat_minor": 4
}
